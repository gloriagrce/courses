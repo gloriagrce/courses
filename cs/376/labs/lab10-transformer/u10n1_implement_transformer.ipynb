{
  "cells": [
    {
      "cell_type": "markdown",
      "metadata": {
        "id": "cnzmi5D7fPBH"
      },
      "source": [
        "# Implementing self-attention\n",
        "\n",
        "We're going to trace through the implementation of a language model based on self-attention, i.e., a Transformer. Outline:\n",
        "\n",
        "1. Tokenization (we'll use character-level)\n",
        "2. Token embeddings\n",
        "3. A single MLP network (which will only be able to look at one token at a time)\n",
        "4. Self-attention\n",
        "\n",
        "You'll be given implementations of basically everything; your task will be to *trace through* the code and understand how it works. The code is written in PyTorch, but you won't need to know PyTorch to understand it."
      ]
    },
    {
      "cell_type": "markdown",
      "metadata": {
        "id": "AhlRRcvvfPBL"
      },
      "source": [
        "## Setup"
      ]
    },
    {
      "cell_type": "code",
      "source": [
        "!pip install -U datasets"
      ],
      "metadata": {
        "colab": {
          "base_uri": "https://localhost:8080/"
        },
        "id": "5TSkwuGqf10Y",
        "outputId": "80445904-84c2-47e1-ad2f-b1a39e09e4cd"
      },
      "execution_count": 1,
      "outputs": [
        {
          "output_type": "stream",
          "name": "stdout",
          "text": [
            "Collecting datasets\n",
            "  Downloading datasets-2.18.0-py3-none-any.whl (510 kB)\n",
            "\u001b[2K     \u001b[90m━━━━━━━━━━━━━━━━━━━━━━━━━━━━━━━━━━━━━━━━\u001b[0m \u001b[32m510.5/510.5 kB\u001b[0m \u001b[31m2.9 MB/s\u001b[0m eta \u001b[36m0:00:00\u001b[0m\n",
            "\u001b[?25hRequirement already satisfied: filelock in /usr/local/lib/python3.10/dist-packages (from datasets) (3.13.3)\n",
            "Requirement already satisfied: numpy>=1.17 in /usr/local/lib/python3.10/dist-packages (from datasets) (1.25.2)\n",
            "Requirement already satisfied: pyarrow>=12.0.0 in /usr/local/lib/python3.10/dist-packages (from datasets) (14.0.2)\n",
            "Requirement already satisfied: pyarrow-hotfix in /usr/local/lib/python3.10/dist-packages (from datasets) (0.6)\n",
            "Collecting dill<0.3.9,>=0.3.0 (from datasets)\n",
            "  Downloading dill-0.3.8-py3-none-any.whl (116 kB)\n",
            "\u001b[2K     \u001b[90m━━━━━━━━━━━━━━━━━━━━━━━━━━━━━━━━━━━━━━━━\u001b[0m \u001b[32m116.3/116.3 kB\u001b[0m \u001b[31m5.6 MB/s\u001b[0m eta \u001b[36m0:00:00\u001b[0m\n",
            "\u001b[?25hRequirement already satisfied: pandas in /usr/local/lib/python3.10/dist-packages (from datasets) (2.0.3)\n",
            "Requirement already satisfied: requests>=2.19.0 in /usr/local/lib/python3.10/dist-packages (from datasets) (2.31.0)\n",
            "Requirement already satisfied: tqdm>=4.62.1 in /usr/local/lib/python3.10/dist-packages (from datasets) (4.66.2)\n",
            "Collecting xxhash (from datasets)\n",
            "  Downloading xxhash-3.4.1-cp310-cp310-manylinux_2_17_x86_64.manylinux2014_x86_64.whl (194 kB)\n",
            "\u001b[2K     \u001b[90m━━━━━━━━━━━━━━━━━━━━━━━━━━━━━━━━━━━━━━━━\u001b[0m \u001b[32m194.1/194.1 kB\u001b[0m \u001b[31m3.4 MB/s\u001b[0m eta \u001b[36m0:00:00\u001b[0m\n",
            "\u001b[?25hCollecting multiprocess (from datasets)\n",
            "  Downloading multiprocess-0.70.16-py310-none-any.whl (134 kB)\n",
            "\u001b[2K     \u001b[90m━━━━━━━━━━━━━━━━━━━━━━━━━━━━━━━━━━━━━━━━\u001b[0m \u001b[32m134.8/134.8 kB\u001b[0m \u001b[31m6.0 MB/s\u001b[0m eta \u001b[36m0:00:00\u001b[0m\n",
            "\u001b[?25hRequirement already satisfied: fsspec[http]<=2024.2.0,>=2023.1.0 in /usr/local/lib/python3.10/dist-packages (from datasets) (2023.6.0)\n",
            "Requirement already satisfied: aiohttp in /usr/local/lib/python3.10/dist-packages (from datasets) (3.9.3)\n",
            "Requirement already satisfied: huggingface-hub>=0.19.4 in /usr/local/lib/python3.10/dist-packages (from datasets) (0.20.3)\n",
            "Requirement already satisfied: packaging in /usr/local/lib/python3.10/dist-packages (from datasets) (24.0)\n",
            "Requirement already satisfied: pyyaml>=5.1 in /usr/local/lib/python3.10/dist-packages (from datasets) (6.0.1)\n",
            "Requirement already satisfied: aiosignal>=1.1.2 in /usr/local/lib/python3.10/dist-packages (from aiohttp->datasets) (1.3.1)\n",
            "Requirement already satisfied: attrs>=17.3.0 in /usr/local/lib/python3.10/dist-packages (from aiohttp->datasets) (23.2.0)\n",
            "Requirement already satisfied: frozenlist>=1.1.1 in /usr/local/lib/python3.10/dist-packages (from aiohttp->datasets) (1.4.1)\n",
            "Requirement already satisfied: multidict<7.0,>=4.5 in /usr/local/lib/python3.10/dist-packages (from aiohttp->datasets) (6.0.5)\n",
            "Requirement already satisfied: yarl<2.0,>=1.0 in /usr/local/lib/python3.10/dist-packages (from aiohttp->datasets) (1.9.4)\n",
            "Requirement already satisfied: async-timeout<5.0,>=4.0 in /usr/local/lib/python3.10/dist-packages (from aiohttp->datasets) (4.0.3)\n",
            "Requirement already satisfied: typing-extensions>=3.7.4.3 in /usr/local/lib/python3.10/dist-packages (from huggingface-hub>=0.19.4->datasets) (4.10.0)\n",
            "Requirement already satisfied: charset-normalizer<4,>=2 in /usr/local/lib/python3.10/dist-packages (from requests>=2.19.0->datasets) (3.3.2)\n",
            "Requirement already satisfied: idna<4,>=2.5 in /usr/local/lib/python3.10/dist-packages (from requests>=2.19.0->datasets) (3.6)\n",
            "Requirement already satisfied: urllib3<3,>=1.21.1 in /usr/local/lib/python3.10/dist-packages (from requests>=2.19.0->datasets) (2.0.7)\n",
            "Requirement already satisfied: certifi>=2017.4.17 in /usr/local/lib/python3.10/dist-packages (from requests>=2.19.0->datasets) (2024.2.2)\n",
            "Requirement already satisfied: python-dateutil>=2.8.2 in /usr/local/lib/python3.10/dist-packages (from pandas->datasets) (2.8.2)\n",
            "Requirement already satisfied: pytz>=2020.1 in /usr/local/lib/python3.10/dist-packages (from pandas->datasets) (2023.4)\n",
            "Requirement already satisfied: tzdata>=2022.1 in /usr/local/lib/python3.10/dist-packages (from pandas->datasets) (2024.1)\n",
            "Requirement already satisfied: six>=1.5 in /usr/local/lib/python3.10/dist-packages (from python-dateutil>=2.8.2->pandas->datasets) (1.16.0)\n",
            "Installing collected packages: xxhash, dill, multiprocess, datasets\n",
            "Successfully installed datasets-2.18.0 dill-0.3.8 multiprocess-0.70.16 xxhash-3.4.1\n"
          ]
        }
      ]
    },
    {
      "cell_type": "code",
      "execution_count": 2,
      "metadata": {
        "id": "uJTxSIEhfPBM"
      },
      "outputs": [],
      "source": [
        "import torch\n",
        "import torch.nn as nn\n",
        "import torch.nn.functional as F\n",
        "import pandas as pd\n",
        "import matplotlib.pyplot as plt\n",
        "from IPython.display import display\n",
        "\n",
        "def num_parameters(model):\n",
        "    \"\"\"Count the number of trainable parameters in a model\"\"\"\n",
        "    return sum(param.numel() for param in model.parameters() if param.requires_grad)\n",
        "\n",
        "if False:\n",
        "    device = torch.device(\"cuda\" if torch.cuda.is_available() else \"cpu\")\n",
        "device = \"cpu\" # with so much overhead in this implementation, GPU doesn't help us much."
      ]
    },
    {
      "cell_type": "markdown",
      "metadata": {
        "id": "vCiz6ylHfPBN"
      },
      "source": [
        "# Dataset"
      ]
    },
    {
      "cell_type": "markdown",
      "metadata": {
        "id": "6uQgbJP2fPBO"
      },
      "source": [
        "We'll use the [TinyStories](https://huggingface.co/datasets/roneneldan/TinyStories) dataset, which is a collection of short stories generated by OpenAI's GPT-3.5. (So don't expect amazing storytelling here.) We'll train the model to predict the next character in the story.\n",
        "\n",
        "First, we'll take a subset of the dataset for training and validation."
      ]
    },
    {
      "cell_type": "code",
      "execution_count": 3,
      "metadata": {
        "colab": {
          "base_uri": "https://localhost:8080/",
          "height": 501,
          "referenced_widgets": [
            "b1b57635fdcc47c09efbb724f9f7765c",
            "16adb70341ed4b749fbb1f0bc20c7bf1",
            "b61f2206289243368b4ae302b5e883b9",
            "1cb9141575704edbad323ce21864c054",
            "951a6364844f48a793d0905a04a0a1d0",
            "93b81a6b5c234b14a69627290b8f2249",
            "b724d69726ba410986dad0bf954f1457",
            "4c3d515f99cc4177b91c3ce24700e2a9",
            "6af45fe9939e421fb6b57693d021a6b6",
            "3fba5511e18e4f159e988c9061b212c7",
            "1c9c01d5823f418c852ffe3c8a2b5ad6",
            "05b652e8d0c1462092471a87dc010656",
            "7d8aecf365eb4125800466270e813ae3",
            "d6e4361805134fb1a3f1c152bc7f0a05",
            "b0aa7e2f9fea4da0b5e5bf0272216325",
            "1fae3d5765f54be5806a3b3d392e1156",
            "3668e7becce14fd59688bbc8fd693466",
            "01c5c0ccf4ae41a3bbd256c89cb3dbcf",
            "1598fefcbe8d4be1baaefa6a8feb8117",
            "83bd39202f4448659eea46c85e399d4b",
            "14de33b1e16343d4b07638083fa20dfb",
            "9e14babf20c349c39dc9ff4e1c744d1a",
            "3641a29c6ec446a3838484690a350571",
            "8f347d7cbd2242579191f215c651050e",
            "4be011f2de2545f98f72a79f70e0e414",
            "0a13a262b94b45f5895150241f635682",
            "22b70ff8e0704dc795cc3358121e0422",
            "a11ee82f22ef455da4df9eec8a638855",
            "9f1381cc36984bc78fb940b37ad2c52a",
            "6999df41495c41fbbd662dfe2d0bc525",
            "703a4b28cec64307b4c45583f6998274",
            "d19329416505430d8c0f2d66aac80816",
            "e53f2b4ad49a466c9af74d20dadde8d2",
            "76c65817ab134dc4b37f3215a98e81eb",
            "c016c8b924df4a17b508b86d463a9c16",
            "30d64118d51949de93843788af405bce",
            "8261318aaef34555a1f9613588ab1d49",
            "08a4056a5160403c8359b49e322c928a",
            "a7be0bb94bc149e6b2744798be7cfc69",
            "2ddd25c6a67a4477b56228ab2c5de12b",
            "4c0b40cd09184fdfbc01f22414941bd7",
            "aeaa3d816aec47e5a4f6a39c5b52fce5",
            "a062f14af19146dd93222efea11618ce",
            "742288e732554c919e21b194fc62c46a",
            "cc4eb16ef92842bdbd4086ba444f68b9",
            "6591457ea3b54594a2cb9b316df4cce6",
            "9ff973cb9a5e4a5c97e826f4f993e8c9",
            "e5923d30891a40f395c66ac251b7e6f7",
            "fb9c250ad07147d69f4be63f4cca87d2",
            "fde38797f2494673bd1fe471ea80f60c",
            "b4b964e4fd6e49418b2b8d9e4e0954b2",
            "c93e395b51f54895a2c697f276e2ddc9",
            "e363b5fc2523474c988d13e5ac26f190",
            "6681eb42b2cf4c51a68d558879d0d398",
            "fb61c148017d49cb944127031870f4cf",
            "d962da012cb84a41bb775f56df41e43e",
            "48be1519c6504bf4ba4e12957c313512",
            "3acc0b711e4c428d8b9848c8051bc00d",
            "ad2b97bb427e4363a59bfe9fa92a6ba4",
            "8c970dbc72a0418ba8d374a0a2daee59",
            "2bed9339791f47aaa083b2634851cde8",
            "8f97d53c41f242a3a0c0938701ac4116",
            "f62e0cd8ad4a4030a079bdd74c026cfd",
            "435e8bf6f48c45f587c68941ccd36b46",
            "68b45e60450d400394e97f9f0f57282f",
            "cf6c545e31ab49b4ae6ab4f12a0065e2",
            "b00fc7273f2c43aa94046b671a43881b",
            "83238cb61f164f198a1492198bcb9502",
            "b8930f3c4c434608a8984bb6ecc1834d",
            "ee88c826db4c4f9793a0670ff05c4195",
            "17e40528fe404641ab21e5daabf732ec",
            "d8ee676779454253ac05df5ffe55c0b5",
            "ceb02047a60e4095996677c56282d110",
            "fbd12b8b7d4e433ea12a7f5bb174513e",
            "6606ed0b5f5a4f7283b37163e3eead7d",
            "136c3853764e42aab6926906dce9ee7a",
            "c97b8eba07d44765b7e117cf65e4ae23",
            "37387b69296c4504bc817d67ddddc575",
            "e4a96a6ba632407a83ea3eeaaac32398",
            "2dd1b862d4f041119f73f84131320773",
            "8d3a7fbf1d294edf935ef5845b2e262b",
            "6944978b16d749b8a82ec1b442e6fa72",
            "ad2504925f89416f9ecbd2e9fc1374c4",
            "ef91d068174247bdbeb4f6780aab32c3",
            "8fa016d1233e48159715a80d08bdfd23",
            "0a4cf702168844f7ab4e2df435c20e03",
            "10384763d6684d0fa26b0075b28db92c",
            "e725706554ed435e849ee4a2cd071da2"
          ]
        },
        "id": "Gk3h8U-BfPBO",
        "outputId": "880be3f1-57fe-431f-db83-02aefd25f7fd"
      },
      "outputs": [
        {
          "output_type": "stream",
          "name": "stderr",
          "text": [
            "/usr/local/lib/python3.10/dist-packages/huggingface_hub/utils/_token.py:88: UserWarning: \n",
            "The secret `HF_TOKEN` does not exist in your Colab secrets.\n",
            "To authenticate with the Hugging Face Hub, create a token in your settings tab (https://huggingface.co/settings/tokens), set it as secret in your Google Colab and restart your session.\n",
            "You will be able to reuse this secret in all of your notebooks.\n",
            "Please note that authentication is recommended but still optional to access public models or datasets.\n",
            "  warnings.warn(\n"
          ]
        },
        {
          "output_type": "display_data",
          "data": {
            "text/plain": [
              "Downloading readme:   0%|          | 0.00/1.02k [00:00<?, ?B/s]"
            ],
            "application/vnd.jupyter.widget-view+json": {
              "version_major": 2,
              "version_minor": 0,
              "model_id": "b1b57635fdcc47c09efbb724f9f7765c"
            }
          },
          "metadata": {}
        },
        {
          "output_type": "stream",
          "name": "stderr",
          "text": [
            "/usr/local/lib/python3.10/dist-packages/huggingface_hub/repocard.py:105: UserWarning: Repo card metadata block was not found. Setting CardData to empty.\n",
            "  warnings.warn(\"Repo card metadata block was not found. Setting CardData to empty.\")\n"
          ]
        },
        {
          "output_type": "display_data",
          "data": {
            "text/plain": [
              "Downloading data:   0%|          | 0.00/249M [00:00<?, ?B/s]"
            ],
            "application/vnd.jupyter.widget-view+json": {
              "version_major": 2,
              "version_minor": 0,
              "model_id": "05b652e8d0c1462092471a87dc010656"
            }
          },
          "metadata": {}
        },
        {
          "output_type": "display_data",
          "data": {
            "text/plain": [
              "Downloading data:   0%|          | 0.00/248M [00:00<?, ?B/s]"
            ],
            "application/vnd.jupyter.widget-view+json": {
              "version_major": 2,
              "version_minor": 0,
              "model_id": "3641a29c6ec446a3838484690a350571"
            }
          },
          "metadata": {}
        },
        {
          "output_type": "display_data",
          "data": {
            "text/plain": [
              "Downloading data:   0%|          | 0.00/246M [00:00<?, ?B/s]"
            ],
            "application/vnd.jupyter.widget-view+json": {
              "version_major": 2,
              "version_minor": 0,
              "model_id": "76c65817ab134dc4b37f3215a98e81eb"
            }
          },
          "metadata": {}
        },
        {
          "output_type": "display_data",
          "data": {
            "text/plain": [
              "Downloading data:   0%|          | 0.00/248M [00:00<?, ?B/s]"
            ],
            "application/vnd.jupyter.widget-view+json": {
              "version_major": 2,
              "version_minor": 0,
              "model_id": "cc4eb16ef92842bdbd4086ba444f68b9"
            }
          },
          "metadata": {}
        },
        {
          "output_type": "display_data",
          "data": {
            "text/plain": [
              "Downloading data:   0%|          | 0.00/9.99M [00:00<?, ?B/s]"
            ],
            "application/vnd.jupyter.widget-view+json": {
              "version_major": 2,
              "version_minor": 0,
              "model_id": "d962da012cb84a41bb775f56df41e43e"
            }
          },
          "metadata": {}
        },
        {
          "output_type": "display_data",
          "data": {
            "text/plain": [
              "Generating train split: 0 examples [00:00, ? examples/s]"
            ],
            "application/vnd.jupyter.widget-view+json": {
              "version_major": 2,
              "version_minor": 0,
              "model_id": "b00fc7273f2c43aa94046b671a43881b"
            }
          },
          "metadata": {}
        },
        {
          "output_type": "display_data",
          "data": {
            "text/plain": [
              "Generating validation split: 0 examples [00:00, ? examples/s]"
            ],
            "application/vnd.jupyter.widget-view+json": {
              "version_major": 2,
              "version_minor": 0,
              "model_id": "37387b69296c4504bc817d67ddddc575"
            }
          },
          "metadata": {}
        },
        {
          "output_type": "execute_result",
          "data": {
            "text/plain": [
              "Dataset({\n",
              "    features: ['text'],\n",
              "    num_rows: 4000\n",
              "})"
            ]
          },
          "metadata": {},
          "execution_count": 3
        }
      ],
      "source": [
        "from datasets import load_dataset\n",
        "\n",
        "dataset = load_dataset(\"roneneldan/TinyStories\", split=\"train[:5000]\")\n",
        "\n",
        "# make a tiny dataset for experimentation\n",
        "split_datasets = dataset.train_test_split(test_size=1000, shuffle=False)\n",
        "train_ds = split_datasets['train']\n",
        "test_ds = split_datasets['test']\n",
        "train_ds"
      ]
    },
    {
      "cell_type": "code",
      "execution_count": 4,
      "metadata": {
        "colab": {
          "base_uri": "https://localhost:8080/"
        },
        "id": "iWUkQCV8fPBP",
        "outputId": "2e24d954-ae4d-4e15-b0d4-6345efd45aff"
      },
      "outputs": [
        {
          "output_type": "stream",
          "name": "stdout",
          "text": [
            "Example story:\n",
            "Once upon a time, there was a little car named Beep. Beep loved to go fast and play in the sun. Beep was a healthy car because he always had good fuel. Good fuel made Beep happy and strong.\n",
            "\n",
            "One day, Beep was driving in the park when he saw a big tree. The tree had many leaves that were falling. Beep liked how the leaves fall and wanted to play with them. Beep drove under the tree and watched the leaves fall on him. He laughed and beeped his horn.\n",
            "\n",
            "Beep played with the falling leaves all day. When it was time to go home, Beep knew he needed more fuel. He went to the fuel place and got more healthy fuel. Now, Beep was ready to go fast and play again the next day. And Beep lived happily ever after.\n"
          ]
        }
      ],
      "source": [
        "# show an example\n",
        "example = train_ds[1]\n",
        "print(\"Example story:\")\n",
        "print(example['text'])"
      ]
    },
    {
      "cell_type": "markdown",
      "metadata": {
        "id": "CuUssZV9fPBQ"
      },
      "source": [
        "# Tokenization"
      ]
    },
    {
      "cell_type": "markdown",
      "metadata": {
        "id": "RWwwwCTCfPBQ"
      },
      "source": [
        "To turn strings into numbers, we'll use the Unicode code point for each character. (To keep things simple, we won't batch anything.)\n",
        "\n",
        "You don't need to read or understand the code in this section; just run it and look at the results."
      ]
    },
    {
      "cell_type": "code",
      "execution_count": 5,
      "metadata": {
        "colab": {
          "base_uri": "https://localhost:8080/"
        },
        "id": "esegBHvPfPBR",
        "outputId": "9095c680-243e-42b0-ed97-7273b2b271c8"
      },
      "outputs": [
        {
          "output_type": "execute_result",
          "data": {
            "text/plain": [
              "tensor([ 79, 110,  99, 101,  32, 117, 112, 111, 110,  32,  97,  32, 116, 105,\n",
              "        109, 101,  44,  32, 116, 104, 101, 114, 101,  32, 119,  97, 115,  32,\n",
              "         97,  32, 108, 105, 116, 116, 108, 101,  32,  99,  97, 114,  32, 110,\n",
              "         97, 109, 101, 100,  32,  66, 101, 101])"
            ]
          },
          "metadata": {},
          "execution_count": 5
        }
      ],
      "source": [
        "n_vocab = 256\n",
        "\n",
        "def encode_doc(doc):\n",
        "    token_ids = torch.tensor([ord(x) for x in doc], device=device)\n",
        "    # Remove any tokens that are out-of-vocabulary\n",
        "    token_ids = token_ids[token_ids < n_vocab]\n",
        "    return token_ids\n",
        "\n",
        "sentence_tensor = encode_doc(example['text'][:50]).cpu() # keep it on CPU for now\n",
        "sentence_tensor"
      ]
    },
    {
      "cell_type": "code",
      "execution_count": 6,
      "metadata": {
        "colab": {
          "base_uri": "https://localhost:8080/",
          "height": 36
        },
        "id": "Bwp1P3XLfPBR",
        "outputId": "b561a54c-e7bb-49c3-aa19-ca2dd25c964c"
      },
      "outputs": [
        {
          "output_type": "execute_result",
          "data": {
            "text/plain": [
              "'Once upon a time, there was a little car named Bee'"
            ],
            "application/vnd.google.colaboratory.intrinsic+json": {
              "type": "string"
            }
          },
          "metadata": {},
          "execution_count": 6
        }
      ],
      "source": [
        "def decode(x):\n",
        "    if isinstance(x, torch.Tensor):\n",
        "        x = x.cpu().numpy()\n",
        "    return ''.join(chr(x) for x in x)\n",
        "decode(sentence_tensor)"
      ]
    },
    {
      "cell_type": "code",
      "execution_count": 7,
      "metadata": {
        "colab": {
          "referenced_widgets": [
            "5894636b7deb4e0eb8a2a1190758bf72",
            "9536f7bd220d44bb8b8396b5400653a8",
            "c2c2088e1b9748db913a301b34b22d93",
            "25cb93ee4d93493b9b29c0de01328e9a",
            "b492e748035446a88b1fe8f5bc9a31e3",
            "226bf8ab7bcf4dfe86ba725fab640f8e",
            "61000d1bcc384bbe8b6e1f80e6760acc",
            "e91e55edf33f4c9eba13c44bd8c43e0a",
            "70b8150555864f499f0d816869639881",
            "dfb15e6089724678b6fa1a36b3be51f1",
            "b4af3157a17144b1b0ef53c35e77aab7"
          ],
          "base_uri": "https://localhost:8080/",
          "height": 66
        },
        "id": "DEBt373MfPBS",
        "outputId": "d8cfc400-7ab3-4634-f46c-e6620c3b84cc"
      },
      "outputs": [
        {
          "output_type": "display_data",
          "data": {
            "text/plain": [
              "Map:   0%|          | 0/4000 [00:00<?, ? examples/s]"
            ],
            "application/vnd.jupyter.widget-view+json": {
              "version_major": 2,
              "version_minor": 0,
              "model_id": "5894636b7deb4e0eb8a2a1190758bf72"
            }
          },
          "metadata": {}
        },
        {
          "output_type": "execute_result",
          "data": {
            "text/plain": [
              "tensor([ 79, 110,  99, 101,  32, 117, 112, 111, 110,  32])"
            ]
          },
          "metadata": {},
          "execution_count": 7
        }
      ],
      "source": [
        "# tokenize the dataset\n",
        "def tokenize_function(examples):\n",
        "    return dict(\n",
        "        input_ids=encode_doc(examples[\"text\"])\n",
        "    )\n",
        "\n",
        "train_tokenized = train_ds.map(tokenize_function)\n",
        "train_tokenized.set_format(type='torch', columns=['input_ids'], device=device)\n",
        "\n",
        "# Each item is now a dictionary with a single key 'input_ids' containing the tokenized text.\n",
        "example = train_tokenized[1]\n",
        "example['input_ids'][:10]"
      ]
    },
    {
      "cell_type": "code",
      "execution_count": 8,
      "metadata": {
        "id": "SH0XIDJ3fPBS",
        "outputId": "b353d669-7c22-4079-d68a-83486333fc1f",
        "colab": {
          "base_uri": "https://localhost:8080/"
        }
      },
      "outputs": [
        {
          "output_type": "stream",
          "name": "stdout",
          "text": [
            "Once upon a time, there was a little car named Beep. Beep loved to go fast and play in the sun. Beep was a healthy car because he always had good fuel. Good fuel made Beep happy and strong.\n",
            "\n",
            "One day, Beep was driving in the park when he saw a big tree. The tree had many leaves that were falling. Beep liked how the leaves fall and wanted to play with them. Beep drove under the tree and watched the leaves fall on him. He laughed and beeped his horn.\n",
            "\n",
            "Beep played with the falling leaves all day. When it was time to go home, Beep knew he needed more fuel. He went to the fuel place and got more healthy fuel. Now, Beep was ready to go fast and play again the next day. And Beep lived happily ever after.\n"
          ]
        }
      ],
      "source": [
        "print(decode(example['input_ids']))"
      ]
    },
    {
      "cell_type": "markdown",
      "metadata": {
        "id": "n1tJv6YXfPBT"
      },
      "source": [
        "## Multi-Layer Perceptron\n",
        "\n",
        "One of the building blocks of our language model will be a MLP that we looked at in previous notebooks. It will take an input (in \"embedding dimension\", which we'll define shortly), project it to a hidden space (typically 4 times as wide as the embedding dimension), apply a nonlinearity like ReLU, then project back to the same dimensionality as the input.\n",
        "\n",
        "Fill in the blanks below to define an MLP as a PyTorch `Module`."
      ]
    },
    {
      "cell_type": "code",
      "execution_count": 9,
      "metadata": {
        "id": "ndfB8BJYfPBT"
      },
      "outputs": [],
      "source": [
        "class MLP(nn.Module):\n",
        "    def __init__(self, emb_dim, n_hidden):\n",
        "        super().__init__()\n",
        "\n",
        "        self.model = nn.Sequential(\n",
        "            nn.Linear(in_features=emb_dim, out_features=n_hidden),\n",
        "            nn.ReLU(), # or nn.GELU() or others\n",
        "            nn.Linear(in_features=n_hidden, out_features=emb_dim)\n",
        "            # The full Transformer adds some dropout here.\n",
        "        )\n",
        "\n",
        "    def forward(self, x):\n",
        "        return self.model(x)\n"
      ]
    },
    {
      "cell_type": "markdown",
      "metadata": {
        "id": "mnlQCIWafPBT"
      },
      "source": [
        "# A language model with a single MLP"
      ]
    },
    {
      "cell_type": "markdown",
      "metadata": {
        "id": "aUDq4F6ZfPBT"
      },
      "source": [
        "Before we get to the Transformer, we'll start with a simple model that can only look at one token at a time.\n",
        "\n",
        "At both the input and output of the model, we'll need to translate between the model's internal representation (a vector) and the actual characters. To do this we use *token embeddings*.\n",
        "\n",
        "We'll use a vocabulary size of 256 (very small, but enough to store individual *bytes*) and an embedding dimensionality of 32 (also pretty small)."
      ]
    },
    {
      "cell_type": "code",
      "execution_count": 10,
      "metadata": {
        "id": "prI6X68GfPBT"
      },
      "outputs": [],
      "source": [
        "emb_dim = 32"
      ]
    },
    {
      "cell_type": "markdown",
      "metadata": {
        "id": "HPEk52D6fPBU"
      },
      "source": [
        "Now we'll build this model. Skim this code, but we'll come back and delve into it more, so don't worry if you don't understand everything right away."
      ]
    },
    {
      "cell_type": "code",
      "execution_count": 11,
      "metadata": {
        "id": "fKKrgO8DfPBU"
      },
      "outputs": [],
      "source": [
        "class FeedForwardLM(nn.Module):\n",
        "    def __init__(self, n_vocab, emb_dim, n_hidden):\n",
        "        super().__init__()\n",
        "        self.word_to_embedding = nn.Embedding(n_vocab, emb_dim)\n",
        "        self.model = MLP(emb_dim=emb_dim, n_hidden=n_hidden)\n",
        "        self.lm_head = nn.Linear(emb_dim, n_vocab, bias=False)\n",
        "\n",
        "        # Use the token embeddings for the LM head (\"tie weights\")\n",
        "        assert self.lm_head.weight.shape == self.word_to_embedding.weight.shape\n",
        "        self.lm_head.weight = self.word_to_embedding.weight\n",
        "\n",
        "    def forward(self, input_ids):\n",
        "        # This method gets called when we \"call\" the model object on some input data.\n",
        "        input_embeds = self.word_to_embedding(input_ids)\n",
        "        x = self.model(input_embeds)\n",
        "        return self.lm_head(x)"
      ]
    },
    {
      "cell_type": "markdown",
      "metadata": {
        "id": "0wFmCOXDfPBU"
      },
      "source": [
        "Let's train this overly-simple model and see what it learns."
      ]
    },
    {
      "cell_type": "code",
      "execution_count": 12,
      "metadata": {
        "id": "GmgyxKoEfPBU",
        "outputId": "81bc332a-08f6-4c57-bdad-0b2b3cf6f82c",
        "colab": {
          "base_uri": "https://localhost:8080/",
          "height": 553
        }
      },
      "outputs": [
        {
          "output_type": "stream",
          "name": "stdout",
          "text": [
            "The feed-forward-only LM has 16544 parameters\n",
            "Epoch 0, Loss: 2.375427825987339\n",
            "Epoch 1, Loss: 2.3108096597790717\n",
            "Epoch 2, Loss: 2.3061845289468765\n",
            "Epoch 3, Loss: 2.3035585985183715\n",
            "Epoch 4, Loss: 2.3020125875473023\n"
          ]
        },
        {
          "output_type": "display_data",
          "data": {
            "text/plain": [
              "<Figure size 640x480 with 1 Axes>"
            ],
            "image/png": "[encoded data removed]"
          },
          "metadata": {}
        }
      ],
      "source": [
        "# Let's train the model\n",
        "model = FeedForwardLM(n_vocab=n_vocab, emb_dim=emb_dim, n_hidden=emb_dim * 4)\n",
        "print(f\"The feed-forward-only LM has {num_parameters(model)} parameters\")\n",
        "model.to(device)\n",
        "optimizer = torch.optim.Adam(model.parameters(), lr=0.001)\n",
        "losses = []\n",
        "\n",
        "for epoch in range(5):\n",
        "    sample_counter = 0\n",
        "    for example in train_tokenized:\n",
        "        token_ids = example['input_ids']\n",
        "        assert token_ids.max() < n_vocab\n",
        "\n",
        "        # set up a causal language modeling task:\n",
        "        # each token should be predicted using the tokens before it\n",
        "        input_ids = token_ids[:-1]\n",
        "        targets   = token_ids[1:]\n",
        "\n",
        "        logits = model(input_ids)\n",
        "        loss = nn.CrossEntropyLoss()(logits, targets)\n",
        "\n",
        "        # Do gradient descent and keep track of the loss\n",
        "        loss.backward()\n",
        "        optimizer.step()\n",
        "        optimizer.zero_grad()\n",
        "        losses.append(loss.item())\n",
        "        sample_counter += 1\n",
        "\n",
        "    avg_loss_this_epoch = sum(losses[-sample_counter:]) / sample_counter\n",
        "    print(f\"Epoch {epoch}, Loss: {avg_loss_this_epoch}\")\n",
        "\n",
        "\n",
        "# Plot a smoothed version of the loss (easier to see the trend)\n",
        "pd.Series(losses)[200:].ewm(alpha = .001).mean().plot()\n",
        "plt.xlabel('Iteration')\n",
        "plt.ylabel(\"Cross-Entropy Loss (nats)\");"
      ]
    },
    {
      "cell_type": "markdown",
      "metadata": {
        "id": "3WDj8sf_fPBU"
      },
      "source": [
        "## Trace the Simple Model\n",
        "\n",
        "We'll now go through the model's forward pass, step by step, to see how it processes a single character."
      ]
    },
    {
      "cell_type": "code",
      "execution_count": 13,
      "metadata": {
        "id": "X1wAvpyrfPBU",
        "outputId": "dcfeeead-4595-438b-9d7a-d1e8b9be51cf",
        "colab": {
          "base_uri": "https://localhost:8080/"
        }
      },
      "outputs": [
        {
          "output_type": "stream",
          "name": "stdout",
          "text": [
            "Once upon \n"
          ]
        }
      ],
      "source": [
        "# Look at the example again; just the first 10 tokens to keep it simple.\n",
        "example = train_tokenized[1]\n",
        "token_ids = example['input_ids'][:10]\n",
        "print(decode(token_ids))"
      ]
    },
    {
      "cell_type": "markdown",
      "metadata": {
        "id": "fABA70cAfPBU"
      },
      "source": [
        "We'll make this an autoregressive language model, so our goal will be to predict the next character. So we'll need to shift the targets left, so each character should output the next one."
      ]
    },
    {
      "cell_type": "code",
      "execution_count": 14,
      "metadata": {
        "id": "YBKRiCdzfPBV",
        "outputId": "07fb4f2c-e682-4912-8e47-53565e12e029",
        "colab": {
          "base_uri": "https://localhost:8080/"
        }
      },
      "outputs": [
        {
          "output_type": "stream",
          "name": "stdout",
          "text": [
            "Inputs:  Once upon\n",
            "Targets: nce upon \n"
          ]
        }
      ],
      "source": [
        "input_ids = token_ids[:-1]\n",
        "targets   = token_ids[1:]\n",
        "assert input_ids.shape == targets.shape\n",
        "\n",
        "print(\"Inputs: \", decode(input_ids))\n",
        "print(\"Targets:\", decode(targets))"
      ]
    },
    {
      "cell_type": "markdown",
      "metadata": {
        "id": "yDIJKXVdfPBV"
      },
      "source": [
        "### Step 1: Embeddings\n",
        "\n",
        "We'll be working through the `forward` method step by step. The first step is to embed the input character. The `word_to_embedding` module is just a lookup table that maps each possible character to a (learned) 32-dimensional vector."
      ]
    },
    {
      "cell_type": "code",
      "execution_count": 15,
      "metadata": {
        "id": "AhswxCmQfPBV",
        "outputId": "8da8f930-f9e6-4c1c-81e5-c9d99065cddc",
        "colab": {
          "base_uri": "https://localhost:8080/"
        }
      },
      "outputs": [
        {
          "output_type": "execute_result",
          "data": {
            "text/plain": [
              "(256, 32)"
            ]
          },
          "metadata": {},
          "execution_count": 15
        }
      ],
      "source": [
        "token_embedding_table = model.word_to_embedding.weight\n",
        "tuple(token_embedding_table.shape)"
      ]
    },
    {
      "cell_type": "code",
      "execution_count": 16,
      "metadata": {
        "id": "YLHIulq7fPBV",
        "outputId": "477cdaf1-7be2-4ffa-8ff8-eef3481b9efe",
        "colab": {
          "base_uri": "https://localhost:8080/"
        }
      },
      "outputs": [
        {
          "output_type": "stream",
          "name": "stdout",
          "text": [
            "Input ids shape: (9,)\n",
            "Input embeddings shape: (9, 32)\n"
          ]
        }
      ],
      "source": [
        "print(\"Input ids shape:\", tuple(input_ids.shape))\n",
        "input_embeds = model.word_to_embedding(input_ids)\n",
        "print(\"Input embeddings shape:\", tuple(input_embeds.shape))"
      ]
    },
    {
      "cell_type": "markdown",
      "metadata": {
        "id": "ynE0nCvofPBV"
      },
      "source": [
        "**Pause to reflect**: Explain each number of the input embeddings shape.\n"
      ]
    },
    {
      "cell_type": "markdown",
      "metadata": {
        "id": "E3UTVczWfPBV"
      },
      "source": [
        "- 9 represents the number of tokens in the input sequence.\n",
        "\n",
        "- 32 represents the dimension of each embedding vector."
      ]
    },
    {
      "cell_type": "markdown",
      "metadata": {
        "id": "2nHfFxLXfPBW"
      },
      "source": [
        "### Step 2: MLP\n",
        "\n",
        "Now we pass the embedding through the MLP. First, project the inputs to the hidden layer:"
      ]
    },
    {
      "cell_type": "code",
      "execution_count": 17,
      "metadata": {
        "id": "QsACt3GxfPBW",
        "outputId": "0914b994-ca9e-49c3-8c72-fde23a45b014",
        "colab": {
          "base_uri": "https://localhost:8080/"
        }
      },
      "outputs": [
        {
          "output_type": "stream",
          "name": "stdout",
          "text": [
            "MLP hidden layer shape: (9, 128)\n",
            "Min value of the hidden layer: -2.308556079864502\n"
          ]
        }
      ],
      "source": [
        "mlp = model.model\n",
        "mlp_hidden_layer = mlp.model[0](input_embeds)\n",
        "print(\"MLP hidden layer shape:\", tuple(mlp_hidden_layer.shape))\n",
        "print(\"Min value of the hidden layer:\", mlp_hidden_layer.min().item())"
      ]
    },
    {
      "cell_type": "markdown",
      "metadata": {
        "id": "gZMK5qupfPBW"
      },
      "source": [
        "Then apply the activation function (ReLU):"
      ]
    },
    {
      "cell_type": "code",
      "execution_count": 18,
      "metadata": {
        "id": "xB-DV_7NfPBW",
        "outputId": "394d9097-df3c-40ba-aabd-2a69f296dfe1",
        "colab": {
          "base_uri": "https://localhost:8080/"
        }
      },
      "outputs": [
        {
          "output_type": "stream",
          "name": "stdout",
          "text": [
            "MLP hidden activations shape: (9, 128)\n",
            "Min value of the activations: 0.0\n"
          ]
        }
      ],
      "source": [
        "mlp_hidden_activations = mlp.model[1](mlp_hidden_layer)\n",
        "print(\"MLP hidden activations shape:\", tuple(mlp_hidden_activations.shape))\n",
        "print(\"Min value of the activations:\", mlp_hidden_activations.min().item())"
      ]
    },
    {
      "cell_type": "markdown",
      "metadata": {
        "id": "3r1jFVOMfPBW"
      },
      "source": [
        "Then project back to the embedding dimension:"
      ]
    },
    {
      "cell_type": "code",
      "execution_count": 19,
      "metadata": {
        "id": "eXme4w6mfPBW",
        "outputId": "fd9e7e8d-30b4-4e3f-8c01-4f76930c4f1b",
        "colab": {
          "base_uri": "https://localhost:8080/"
        }
      },
      "outputs": [
        {
          "output_type": "stream",
          "name": "stdout",
          "text": [
            "MLP output shape: (9, 32)\n"
          ]
        }
      ],
      "source": [
        "mlp_output = mlp.model[2](mlp_hidden_activations)\n",
        "print(\"MLP output shape:\", tuple(mlp_output.shape))"
      ]
    },
    {
      "cell_type": "markdown",
      "metadata": {
        "id": "7QqDyuudfPBX"
      },
      "source": [
        "### Step 3: LM Head"
      ]
    },
    {
      "cell_type": "markdown",
      "metadata": {
        "id": "eS_KD86zfPBX"
      },
      "source": [
        "The MLP outputs are now the context embeddings. To turn them into predictions for the next character, we'll pass them through the LM head (which is just a linear layer):"
      ]
    },
    {
      "cell_type": "code",
      "execution_count": 20,
      "metadata": {
        "id": "T3nquBXHfPBb"
      },
      "outputs": [],
      "source": [
        "lm_head = model.lm_head\n",
        "lm_logits = lm_head(mlp_output)\n",
        "\n",
        "# Since the weights are tied, this is the same thing as mlp_output @ token_embedding_table.T"
      ]
    },
    {
      "cell_type": "markdown",
      "metadata": {
        "id": "JDDJFUqpfPBb"
      },
      "source": [
        "Now we have our logits. **Pause to reflect**: What is the shape of the logits tensor? What does each number represent?"
      ]
    },
    {
      "cell_type": "code",
      "execution_count": 21,
      "metadata": {
        "id": "FbyyMWp9fPBc",
        "outputId": "38001fbe-9bdc-4951-fac8-ca7f68b7d09d",
        "colab": {
          "base_uri": "https://localhost:8080/"
        }
      },
      "outputs": [
        {
          "output_type": "execute_result",
          "data": {
            "text/plain": [
              "torch.Size([9, 256])"
            ]
          },
          "metadata": {},
          "execution_count": 21
        }
      ],
      "source": [
        "lm_logits.shape\n",
        "\n"
      ]
    },
    {
      "cell_type": "markdown",
      "metadata": {
        "id": "8Ko8aTIPfPBc"
      },
      "source": [
        "- 9: The number of input tokens in the sequence.\n",
        "- 256: This is the size of the vocabulary."
      ]
    },
    {
      "cell_type": "markdown",
      "metadata": {
        "id": "wmHVflCDfPBc"
      },
      "source": [
        "What did each of the 9 tokens predict as the next character?"
      ]
    },
    {
      "cell_type": "code",
      "execution_count": 22,
      "metadata": {
        "id": "JwLiTwOSfPBc",
        "outputId": "7213ea66-0daf-41ec-ff24-3afad1475110",
        "colab": {
          "base_uri": "https://localhost:8080/"
        }
      },
      "outputs": [
        {
          "output_type": "stream",
          "name": "stdout",
          "text": [
            "Token: O; Most likely next token: n\n",
            "Token: n; Most likely next token: d\n",
            "Token: c; Most likely next token: a\n",
            "Token: e; Most likely next token:  \n",
            "Token:  ; Most likely next token: t\n",
            "Token: u; Most likely next token: t\n",
            "Token: p; Most likely next token: l\n",
            "Token: o; Most likely next token:  \n",
            "Token: n; Most likely next token: d\n"
          ]
        }
      ],
      "source": [
        "for i in range(len(input_ids)):\n",
        "    print(f\"Token: {decode(input_ids[i:i+1])}; Most likely next token:\", decode([lm_logits[i].argmax()]))"
      ]
    },
    {
      "cell_type": "markdown",
      "metadata": {
        "id": "B6kngg_HfPBc"
      },
      "source": [
        "Here's how we compute the cross-entropy loss between the predicted and actual next characters. (In PyTorch, the `CrossEntropyLoss` function combines the softmax and the negative log likelihood loss, i.e., it expects to be given *logits*, not probabilities.)"
      ]
    },
    {
      "cell_type": "code",
      "execution_count": 23,
      "metadata": {
        "id": "U-cnVQ-efPBe",
        "outputId": "c138c7c3-aa4a-4a14-d3e0-cf1cc4bfd658",
        "colab": {
          "base_uri": "https://localhost:8080/"
        }
      },
      "outputs": [
        {
          "output_type": "execute_result",
          "data": {
            "text/plain": [
              "tensor(2.1486, grad_fn=<NllLossBackward0>)"
            ]
          },
          "metadata": {},
          "execution_count": 23
        }
      ],
      "source": [
        "loss = nn.CrossEntropyLoss()(lm_logits, targets)\n",
        "loss"
      ]
    },
    {
      "cell_type": "markdown",
      "metadata": {
        "id": "ebJSLgTQfPBf"
      },
      "source": [
        "## Generating text"
      ]
    },
    {
      "cell_type": "markdown",
      "metadata": {
        "id": "v1DmG3ACfPBf"
      },
      "source": [
        "To see what the model learned, we'll try generating some text."
      ]
    },
    {
      "cell_type": "code",
      "execution_count": 24,
      "metadata": {
        "id": "GhweNZowfPBf",
        "outputId": "9bca4466-4519-4655-9e68-b703adc9a90a",
        "colab": {
          "base_uri": "https://localhost:8080/"
        }
      },
      "outputs": [
        {
          "output_type": "execute_result",
          "data": {
            "text/plain": [
              "tensor([65])"
            ]
          },
          "metadata": {},
          "execution_count": 24
        }
      ],
      "source": [
        "prompt = 'A'\n",
        "prompt_tensor = encode_doc(prompt)\n",
        "prompt_tensor"
      ]
    },
    {
      "cell_type": "markdown",
      "metadata": {
        "id": "xi_9XKxTfPBf"
      },
      "source": [
        "Fill in the blanks below to implement temperature sampling for this model."
      ]
    },
    {
      "cell_type": "markdown",
      "metadata": {
        "id": "f5Ri1YnJfPBf"
      },
      "source": [
        "Let's try sampling generation."
      ]
    },
    {
      "cell_type": "code",
      "execution_count": 25,
      "metadata": {
        "id": "HomDqkRxfPBf",
        "outputId": "628e1387-f9c4-4908-d6c8-36a1db222a47",
        "colab": {
          "base_uri": "https://localhost:8080/"
        }
      },
      "outputs": [
        {
          "output_type": "stream",
          "name": "stdout",
          "text": [
            "And t t thinthe t go tet Lime he and s the s fus he ane it way s toutome wand t to s. ar an t her Tis\n"
          ]
        }
      ],
      "source": [
        "prompt_tensor = encode_doc('A')\n",
        "temperature = 0.5\n",
        "for i in range(100):\n",
        "    logits = model(prompt_tensor)\n",
        "    # Get the next-token logits\n",
        "    next_token_logits = logits[-1]\n",
        "    # Scale the logits by the temperature\n",
        "    scaled_logits = next_token_logits / temperature\n",
        "    # Apply softmax to get probabilities\n",
        "    probs = scaled_logits.softmax(dim=-1)\n",
        "    # sample from the probability distribution\n",
        "    next_token = torch.multinomial(probs, num_samples=1)\n",
        "    # append the token to the prompt tensor\n",
        "    prompt_tensor = torch.cat([prompt_tensor, next_token])\n",
        "\n",
        "# Show the generated text\n",
        "print(decode(prompt_tensor))"
      ]
    },
    {
      "cell_type": "markdown",
      "metadata": {
        "id": "rAqoPP78fPBf"
      },
      "source": [
        "## Self-Attention\n",
        "\n",
        "To make better predictions, we'll need to let the model look at more than just one token at a time. We'll do this with *self-attention*. The idea is that each token can look at all the other tokens and decide how much to pay attention to each one. This is a powerful mechanism that allows the model to learn dependencies between tokens that are far apart. (For example, in the sentence \"I grew up in France... I speak fluent French\", the word \"French\" is highly dependent on the word \"France\", but they're far apart in the sentence.)\n",
        "\n",
        "In the last year, billions of computing dollars have been spent on training and running models that are basically just stacks of self-attention layers like what we'll implement in this section. It's a very powerful idea! (It even made the predictions that I accepted to type in more than half of the words in the previous paragraph, haha!)\n",
        "\n",
        "We're going to implement an oversimplified Self-Attention layer. If you're interested, here are a few reference implementations of the real thing:\n",
        "\n",
        "- https://github.com/jaymody/picoGPT/ (ridiculously compact)\n",
        "- [minGPT](https://github.com/karpathy/minGPT/blob/master/mingpt/model.py) (more readable)\n",
        "- https://github.com/karpathy/nanoGPT/blob/master/model.py (more brrr)\n",
        "- [Annotated Transformer](https://nlp.seas.harvard.edu/2018/04/03/attention.html)\n",
        "- PyTorch's builtin implementation: [`TransformerEncoderLayer`](https://pytorch.org/docs/stable/_modules/torch/nn/modules/transformer.html#TransformerEncoderLayer) and [`MultiheadAttention`](https://pytorch.org/docs/stable/generated/torch.nn.MultiheadAttention.html#torch.nn.MultiheadAttention)."
      ]
    },
    {
      "cell_type": "markdown",
      "metadata": {
        "id": "6VqG_sFSfPBg"
      },
      "source": [
        "We'll start with a big pile of code, then pull it apart step by step. So *run this code first*, then we'll come back to try to understand it. (It'll take a bit longer to train, too, so get the training cell started while you read the code.)"
      ]
    },
    {
      "cell_type": "code",
      "execution_count": 26,
      "metadata": {
        "id": "sT5s21_tfPBg"
      },
      "outputs": [],
      "source": [
        "VERY_SMALL_NUMBER = -1e9\n",
        "def make_causal_mask(sequence_len):\n",
        "    return (1 - torch.tril(torch.ones(sequence_len, sequence_len))) * VERY_SMALL_NUMBER\n",
        "\n",
        "class BareBonesAttentionHead(nn.Module):\n",
        "    '''Implements *single-head* attention, no dropout, no init'''\n",
        "    def __init__(self, emb_dim, head_dim):\n",
        "        super().__init__()\n",
        "        self.head_dim = head_dim\n",
        "        self.get_query = nn.Linear(emb_dim, head_dim, bias=False)\n",
        "        self.get_key = nn.Linear(emb_dim, head_dim, bias=False)\n",
        "        self.get_value = nn.Linear(emb_dim, head_dim, bias=False)\n",
        "\n",
        "    def forward(self, x):\n",
        "        seq_len, emb_dim = x.shape\n",
        "\n",
        "        # Compute query, key, and value vectors.\n",
        "        q = self.get_query(x) # (seq_len, head_dim)\n",
        "        k = self.get_key(x)\n",
        "        v = self.get_value(x)\n",
        "\n",
        "        # Compute attention weights.\n",
        "        k_transpose = k.transpose(-2, -1)\n",
        "        assert k_transpose.shape == (self.head_dim, seq_len)\n",
        "        scores = q @ k_transpose  / emb_dim**0.5\n",
        "        assert scores.shape == (seq_len, seq_len)\n",
        "        # Apply the causal mask\n",
        "        causal_mask = make_causal_mask(seq_len).to(scores.device)\n",
        "        scores = scores + causal_mask\n",
        "        attention_weights = scores.softmax(dim=-1)\n",
        "        # The full Transformer adds some dropout here.\n",
        "\n",
        "        # Compute weighted sum of values.\n",
        "        out = attention_weights @ v\n",
        "        return out\n",
        "\n",
        "class BareBonesSelfAttention(nn.Module):\n",
        "    def __init__(self, emb_dim, head_dim, n_heads):\n",
        "        super().__init__()\n",
        "        self.heads = nn.ModuleList([\n",
        "            BareBonesAttentionHead(emb_dim, head_dim)\n",
        "            for i in range(n_heads)\n",
        "        ]) # we need a ModuleList to make sure the heads are counted as children.\n",
        "        # This last linear layer projects concatenated embeddings back to the original embedding space.\n",
        "        # It's not strictly necessary; you could premultiply it with the get_value matrices.\n",
        "        self.to_output = nn.Linear(n_heads * head_dim, emb_dim, bias=False)\n",
        "\n",
        "    def forward(self, x):\n",
        "        head_outputs = [head(x) for head in self.heads]\n",
        "        concats = torch.cat(head_outputs, dim=-1)\n",
        "        out = self.to_output(concats)\n",
        "        assert out.shape == x.shape\n",
        "        return out\n"
      ]
    },
    {
      "cell_type": "markdown",
      "metadata": {
        "id": "9THSdGvwfPBg"
      },
      "source": [
        "Now we'll define a Transformer. Well, we'll just define a single layer. A true Transformer will have many (perhaps 32, 64, 118, ...) such layers. But it's just running a bunch of instances of a layer like this in sequence.\n",
        "\n",
        "One new thing here is the *layer norm*. It basically rescales the activations to be mean 0 variance 1, then scales and shifts by learnable constants. So each one adds 2 * emb_dim parameters to the model, and there's one after each part (self-attention and MLP)."
      ]
    },
    {
      "cell_type": "code",
      "execution_count": 27,
      "metadata": {
        "id": "w2xJW0oMfPBg"
      },
      "outputs": [],
      "source": [
        "class BareBonesTransformerLayer(nn.Module):\n",
        "    '''Implements bare-bones self-attention transformer layer, no residual connections, no dropout'''\n",
        "    def __init__(self, emb_dim, head_dim, n_heads, dim_feedforward):\n",
        "        super().__init__()\n",
        "        self.self_attention = BareBonesSelfAttention(emb_dim, head_dim=head_dim, n_heads=n_heads)\n",
        "        self.mlp = MLP(emb_dim, n_hidden=dim_feedforward)\n",
        "        self.norm_1 = nn.LayerNorm(emb_dim)\n",
        "        self.norm_2 = nn.LayerNorm(emb_dim)\n",
        "\n",
        "    def forward(self, x):\n",
        "        x = x + self.self_attention(self.norm_1(x))\n",
        "        x = x + self.mlp(self.norm_2(x))\n",
        "        return x\n",
        "\n",
        "xformer_layer = BareBonesTransformerLayer(emb_dim, dim_feedforward=emb_dim, head_dim=256, n_heads=2)"
      ]
    },
    {
      "cell_type": "markdown",
      "metadata": {
        "id": "6CgQmHhRfPBg"
      },
      "source": [
        "Now, at long last, let's make a complete Transformer-based language model.\n",
        "\n",
        "A big new aspect here is the *position embeddings*. We'll implement *learned absolute position embeddings*, which do add parameters to the model. (A cool new approach, called *Rotary Position Embeddings* ([RoPE](https://blog.eleuther.ai/rotary-embeddings/)), gets comparable or better performance without adding parameters; most current models, like Llama2 and Gemma, use it.)"
      ]
    },
    {
      "cell_type": "code",
      "execution_count": 28,
      "metadata": {
        "id": "uel7eW73fPBg"
      },
      "outputs": [],
      "source": [
        "max_len = 100\n",
        "\n",
        "class TransformerLM(nn.Module):\n",
        "    def __init__(self, n_vocab, max_len, emb_dim, n_hidden, head_dim=5, n_heads=4):\n",
        "        super().__init__()\n",
        "        self.word_to_embedding = nn.Embedding(n_vocab, emb_dim)\n",
        "        self.pos_to_embedding = nn.Embedding(max_len, emb_dim)\n",
        "        self.model = BareBonesTransformerLayer(\n",
        "            emb_dim=emb_dim, dim_feedforward=n_hidden,\n",
        "            head_dim=head_dim, n_heads=n_heads)\n",
        "        self.lm_head = nn.Linear(emb_dim, n_vocab, bias=False)\n",
        "\n",
        "        assert self.lm_head.weight.shape == self.word_to_embedding.weight.shape\n",
        "        self.lm_head.weight = self.word_to_embedding.weight\n",
        "\n",
        "    def forward(self, input_ids):\n",
        "        seq_len = input_ids.shape[-1]\n",
        "        if seq_len > max_len:\n",
        "            # Fail if the input sequence is too long.\n",
        "            raise ValueError(f\"Input sequence length {seq_len} is longer than the maximum of {max_len}\")\n",
        "        input_embeds = self.word_to_embedding(input_ids)\n",
        "        # Compute position embeddings.\n",
        "        position_ids = torch.arange(seq_len, device=input_ids.device)\n",
        "        pos_embeds = self.pos_to_embedding(position_ids)\n",
        "        x = input_embeds + pos_embeds\n",
        "        x = self.model(x)\n",
        "        return self.lm_head(x)"
      ]
    },
    {
      "cell_type": "markdown",
      "metadata": {
        "id": "e9XwUcdSfPBh"
      },
      "source": [
        "### Train the Transformer\n",
        "\n",
        "Now let's try training that model. Run this code, it'll take a minute or two."
      ]
    },
    {
      "cell_type": "code",
      "execution_count": 49,
      "metadata": {
        "id": "pA4MoohPfPBh",
        "outputId": "3186aec5-6686-4d24-90e4-7ab595c35d98",
        "colab": {
          "base_uri": "https://localhost:8080/",
          "height": 517
        }
      },
      "outputs": [
        {
          "output_type": "stream",
          "name": "stdout",
          "text": [
            "Epoch 0, Loss: 2.6746543630957604\n",
            "Epoch 1, Loss: 1.8772605989575386\n",
            "Epoch 2, Loss: 1.7941548792272806\n",
            "Epoch 3, Loss: 1.7267352709323167\n",
            "Epoch 4, Loss: 1.6458295021653175\n"
          ]
        },
        {
          "output_type": "display_data",
          "data": {
            "text/plain": [
              "<Figure size 640x480 with 1 Axes>"
            ],
            "image/png": "[encoded data removed]"
          },
          "metadata": {}
        }
      ],
      "source": [
        "# Set up a single-head model so it's easier to trace. Later you can try more heads.\n",
        "model = TransformerLM(n_vocab=n_vocab, max_len=max_len, emb_dim=emb_dim, n_hidden=emb_dim * 4, head_dim=emb_dim // 2, n_heads=1)\n",
        "model.to(device)\n",
        "optimizer = torch.optim.Adam(model.parameters(), lr=0.001)\n",
        "losses = []\n",
        "\n",
        "for epoch in range(5):\n",
        "    sample_counter = 0\n",
        "    for example in train_tokenized:\n",
        "        # Truncate the example to the context length of the model.\n",
        "        token_ids = example['input_ids'][:max_len]\n",
        "        input_ids = token_ids[:-1]\n",
        "        targets = token_ids[1:]\n",
        "\n",
        "        assert token_ids.max() < n_vocab\n",
        "\n",
        "        logits = model(input_ids)\n",
        "        loss = nn.CrossEntropyLoss()(logits, targets)\n",
        "\n",
        "        loss.backward()\n",
        "        optimizer.step()\n",
        "        optimizer.zero_grad()\n",
        "        losses.append(loss.item())\n",
        "        sample_counter += 1\n",
        "    avg_loss_this_epoch = sum(losses[-sample_counter:]) / sample_counter\n",
        "    print(f\"Epoch {epoch}, Loss: {avg_loss_this_epoch}\")\n",
        "\n",
        "# Plot a smoothed version of the loss (easier to see the trend)\n",
        "pd.Series(losses)[500:].ewm(alpha = .001).mean().plot();"
      ]
    },
    {
      "cell_type": "markdown",
      "metadata": {
        "id": "IEoRi_fRfPBh"
      },
      "source": [
        "Notice that the loss values are much lower than the simple feed-forward model; that's one clue that this model is capturing a lot more of the patterns of how characters are related to each other. Another way we'll see how much better this is is by generating text.\n",
        "\n",
        "Try a few different prompts here to start the story, like  \"once\" or \"One\" to start the story. Use a moderate temperature, like 0.3 or 0.5.\n",
        "\n",
        "**Note**: The model is trained on a tiny dataset, so it won't be able to generate coherent stories. But it should be able to do much better than the one-character-at-a-time model. If we wanted to do better, the easiest thing is to increase the number of attention heads, and train on more data for longer."
      ]
    },
    {
      "cell_type": "code",
      "execution_count": 50,
      "metadata": {
        "id": "jr0r64l_fPBi",
        "outputId": "e2a6dc55-e9f0-4c31-9a6d-bb9117cb6d7b",
        "colab": {
          "base_uri": "https://localhost:8080/",
          "height": 36
        }
      },
      "outputs": [
        {
          "output_type": "execute_result",
          "data": {
            "text/plain": [
              "'Once upon a time, there was a litt'"
            ],
            "application/vnd.google.colaboratory.intrinsic+json": {
              "type": "string"
            }
          },
          "metadata": {},
          "execution_count": 50
        }
      ],
      "source": [
        "prompt_tensor = encode_doc('Once')\n",
        "temperature = 0.5\n",
        "for i in range(30):\n",
        "    logits = model(prompt_tensor)\n",
        "    probs = (logits[-1] / temperature).softmax(dim=-1)\n",
        "    next_token = torch.multinomial(probs, num_samples=1)\n",
        "    prompt_tensor = torch.cat([prompt_tensor, next_token])\n",
        "decode(prompt_tensor)"
      ]
    },
    {
      "cell_type": "markdown",
      "metadata": {
        "id": "2J8gsmbffPBi"
      },
      "source": [
        "### Tracing the Transformer\n",
        "\n",
        "Just like we did above with the simple model, let's trace through the Transformer's forward pass.\n",
        "\n",
        "You might find it helpful to have the preview of this notebook open in another window so you can follow the code for the forward pass.\n",
        "\n",
        "As before, we first compute the embeddings for the input tokens:"
      ]
    },
    {
      "cell_type": "code",
      "execution_count": 51,
      "metadata": {
        "id": "7p0NHsVJfPBi",
        "outputId": "d14e453f-4810-4bc1-bc89-a5a1e8e23256",
        "colab": {
          "base_uri": "https://localhost:8080/"
        }
      },
      "outputs": [
        {
          "output_type": "stream",
          "name": "stdout",
          "text": [
            "Input embeddings shape: (4, 32)\n"
          ]
        }
      ],
      "source": [
        "prompt_tensor = encode_doc('Once')\n",
        "input_embeds = model.word_to_embedding(prompt_tensor)\n",
        "print(\"Input embeddings shape:\", tuple(input_embeds.shape))\n"
      ]
    },
    {
      "cell_type": "markdown",
      "metadata": {
        "id": "dCr2sVJTfPBi"
      },
      "source": [
        "Now we *add the position embeddings*. This lets the model know where each token is. This is a simple learned embedding, so we just look up the position embedding for each token and add it to the token's embedding:"
      ]
    },
    {
      "cell_type": "code",
      "execution_count": 52,
      "metadata": {
        "id": "EPg6qKqXfPBi",
        "outputId": "961b3eea-a98d-4a92-9805-44a02253ebb6",
        "colab": {
          "base_uri": "https://localhost:8080/"
        }
      },
      "outputs": [
        {
          "output_type": "execute_result",
          "data": {
            "text/plain": [
              "tensor([0, 1, 2, 3])"
            ]
          },
          "metadata": {},
          "execution_count": 52
        }
      ],
      "source": [
        "seq_len = prompt_tensor.shape[-1]\n",
        "position_ids = torch.arange(seq_len)\n",
        "position_ids"
      ]
    },
    {
      "cell_type": "code",
      "execution_count": 53,
      "metadata": {
        "id": "z6MbliamfPBj",
        "outputId": "5c8422d9-2e91-474a-fdc1-81ff3665330d",
        "colab": {
          "base_uri": "https://localhost:8080/"
        }
      },
      "outputs": [
        {
          "output_type": "stream",
          "name": "stdout",
          "text": [
            "Input embeddings shape: (4, 32)\n"
          ]
        }
      ],
      "source": [
        "pos_embeds = model.pos_to_embedding(position_ids)\n",
        "x = input_embeds + pos_embeds\n",
        "print(\"Input embeddings shape:\", tuple(x.shape))"
      ]
    },
    {
      "cell_type": "markdown",
      "metadata": {
        "id": "YJU-hf6JfPBj"
      },
      "source": [
        "Next we go through a layer normalization. It basically just rescales its inputs; we won't dwell on it here."
      ]
    },
    {
      "cell_type": "code",
      "execution_count": 54,
      "metadata": {
        "id": "26Uri4BQfPBj",
        "outputId": "217e9e4d-a3f9-401d-9ab6-988844aa91d7",
        "colab": {
          "base_uri": "https://localhost:8080/"
        }
      },
      "outputs": [
        {
          "output_type": "stream",
          "name": "stdout",
          "text": [
            "Normalized input embeddings shape: (4, 32)\n"
          ]
        }
      ],
      "source": [
        "x = model.model.norm_1(x)\n",
        "print(\"Normalized input embeddings shape:\", tuple(x.shape))"
      ]
    },
    {
      "cell_type": "markdown",
      "metadata": {
        "id": "-6VRSpFxfPBj"
      },
      "source": [
        "Now the interesting part: a self-attention layer. In general a self-attention layer can have multiple \"heads\", but we just have one here. We'll go through it step by step."
      ]
    },
    {
      "cell_type": "code",
      "execution_count": 55,
      "metadata": {
        "id": "ujbs4z04fPBj"
      },
      "outputs": [],
      "source": [
        "head = model.model.self_attention.heads[0]"
      ]
    },
    {
      "cell_type": "markdown",
      "metadata": {
        "id": "YoBIVR1ofPBj"
      },
      "source": [
        "An attention head computes three things for each token: a **query** (q), which then gets compared with all of the **key**s (k), and for those that match, we add up the **value**s (v). Let's do that. The query, key, and value are all computed by multiplying the input by learned weight matrices."
      ]
    },
    {
      "cell_type": "code",
      "execution_count": 56,
      "metadata": {
        "id": "bNLIQVT0fPBk",
        "outputId": "0d48a792-19c8-4d0e-d1f1-fa9f77334cab",
        "colab": {
          "base_uri": "https://localhost:8080/"
        }
      },
      "outputs": [
        {
          "output_type": "execute_result",
          "data": {
            "text/plain": [
              "Linear(in_features=32, out_features=16, bias=False)"
            ]
          },
          "metadata": {},
          "execution_count": 56
        }
      ],
      "source": [
        "head.get_query"
      ]
    },
    {
      "cell_type": "markdown",
      "metadata": {
        "id": "oPN6XFl-fPBk"
      },
      "source": [
        "When we do a forward pass, we compute q, k, and v for each token. We do that by passing the input embeddings through those linear layers."
      ]
    },
    {
      "cell_type": "code",
      "execution_count": 57,
      "metadata": {
        "id": "aYBXB7JvfPBk"
      },
      "outputs": [],
      "source": [
        "queries = head.get_query(x)\n",
        "keys = head.get_key(x)\n",
        "values = head.get_value(x)"
      ]
    },
    {
      "cell_type": "markdown",
      "metadata": {
        "id": "NSbRei2lfPBk"
      },
      "source": [
        "**Stop**: What shape will `queries` have? What about `keys` and `values`? Check your answers by printing them out."
      ]
    },
    {
      "cell_type": "markdown",
      "metadata": {
        "id": "Ndo7PjYtfPBk"
      },
      "source": [
        "I think the shape that they will have is all the same which is (4, 16)"
      ]
    },
    {
      "cell_type": "code",
      "source": [
        "print(\"Queries shape:\", tuple(queries.shape))\n",
        "print(\"Keys shape:\", tuple(keys.shape))\n",
        "print(\"Values shape:\", tuple(values.shape))"
      ],
      "metadata": {
        "colab": {
          "base_uri": "https://localhost:8080/"
        },
        "id": "AV3-uE-R4c09",
        "outputId": "c60bdfb0-8a06-44ec-ac45-bbf69856cd7d"
      },
      "execution_count": 58,
      "outputs": [
        {
          "output_type": "stream",
          "name": "stdout",
          "text": [
            "Queries shape: (4, 16)\n",
            "Keys shape: (4, 16)\n",
            "Values shape: (4, 16)\n"
          ]
        }
      ]
    },
    {
      "cell_type": "markdown",
      "metadata": {
        "id": "PWZgnkpWfPBk"
      },
      "source": [
        "Now, let's compute how how much each token's query matches each token's key. We do that by computing the dot product of each query with each key. We could do something like:"
      ]
    },
    {
      "cell_type": "code",
      "execution_count": 59,
      "metadata": {
        "id": "IacsLyR8fPBk"
      },
      "outputs": [],
      "source": [
        "query_2_key_1 = queries[2] @ keys[1]"
      ]
    },
    {
      "cell_type": "markdown",
      "metadata": {
        "id": "oMmHUcmzfPBk"
      },
      "source": [
        "But that would be tedious and require looping. Instead, we can just compute a matrix multiplication."
      ]
    },
    {
      "cell_type": "code",
      "execution_count": 60,
      "metadata": {
        "id": "dc-Lx9xlfPBl",
        "outputId": "f43a7bdd-a8e0-4fb5-e714-9203fdcbad7c",
        "colab": {
          "base_uri": "https://localhost:8080/"
        }
      },
      "outputs": [
        {
          "output_type": "execute_result",
          "data": {
            "text/plain": [
              "torch.Size([4, 4])"
            ]
          },
          "metadata": {},
          "execution_count": 60
        }
      ],
      "source": [
        "query_key_products = queries @ keys.T\n",
        "query_key_products.shape"
      ]
    },
    {
      "cell_type": "code",
      "execution_count": 61,
      "metadata": {
        "id": "_J4m8yTHfPBl"
      },
      "outputs": [],
      "source": [
        "# Check that it's computing the same thing.\n",
        "assert torch.allclose(query_2_key_1, query_key_products[2, 1])"
      ]
    },
    {
      "cell_type": "markdown",
      "metadata": {
        "id": "nGvsYEDIfPBl"
      },
      "source": [
        "The result is a matrix of dot products. Let's look at it. (Note: since the model was initialized randomly, your values will be different.)"
      ]
    },
    {
      "cell_type": "code",
      "execution_count": 62,
      "metadata": {
        "id": "IKC2elfKfPBl",
        "outputId": "c9593f86-6234-4364-ec7c-dea44475b2d3",
        "colab": {
          "base_uri": "https://localhost:8080/",
          "height": 472
        }
      },
      "outputs": [
        {
          "output_type": "display_data",
          "data": {
            "text/plain": [
              "<Figure size 640x480 with 2 Axes>"
            ],
            "image/png": "[encoded data removed]"
          },
          "metadata": {}
        }
      ],
      "source": [
        "# center the color scale on 0.\n",
        "max_values = torch.abs(query_key_products).max().item()\n",
        "plt.imshow(query_key_products.detach().numpy(), cmap=\"RdBu\", vmin=-max_values, vmax=max_values)\n",
        "plt.title(\"Query-key dot products\")\n",
        "plt.xlabel(\"Key token index\")\n",
        "plt.ylabel(\"Query token index\")\n",
        "plt.colorbar();"
      ]
    },
    {
      "cell_type": "markdown",
      "metadata": {
        "id": "PduyrREyfPBl"
      },
      "source": [
        "We then use the softmax function to compute how much to actually pay attention to each token. It turns out that to stabilize the computation, it helps to use a temperature proportional to the square root of the dimensionality of the keys."
      ]
    },
    {
      "cell_type": "code",
      "execution_count": 63,
      "metadata": {
        "id": "V-6h4-EIfPBl"
      },
      "outputs": [],
      "source": [
        "attention_weights = F.softmax(query_key_products / emb_dim**0.5, dim=-1)"
      ]
    },
    {
      "cell_type": "markdown",
      "metadata": {
        "id": "dvmwVuP6fPBl"
      },
      "source": [
        "What do the attention weights look like?"
      ]
    },
    {
      "cell_type": "code",
      "execution_count": 64,
      "metadata": {
        "id": "tJuASlaKfPBl",
        "outputId": "6ca305be-f737-406d-b564-438fa4a7cf2b",
        "colab": {
          "base_uri": "https://localhost:8080/",
          "height": 472
        }
      },
      "outputs": [
        {
          "output_type": "display_data",
          "data": {
            "text/plain": [
              "<Figure size 640x480 with 2 Axes>"
            ],
            "image/png": "[encoded data removed]"
          },
          "metadata": {}
        }
      ],
      "source": [
        "plt.imshow(attention_weights.detach().numpy(), cmap=\"cividis\", vmin=0)\n",
        "plt.title(\"Attention weights\")\n",
        "plt.xlabel(\"Key token index\")\n",
        "plt.ylabel(\"Query token index\")\n",
        "plt.colorbar();"
      ]
    },
    {
      "cell_type": "markdown",
      "metadata": {
        "id": "HYsHyrw1fPBm"
      },
      "source": [
        "Those weights determine, for each token, how much of each other token's `value` to add up. We can compute that by multiplying the weights by the values."
      ]
    },
    {
      "cell_type": "code",
      "execution_count": 65,
      "metadata": {
        "id": "IyJhytL9fPBm",
        "outputId": "2003a442-def6-4e40-e683-7dfd3db592b8",
        "colab": {
          "base_uri": "https://localhost:8080/"
        }
      },
      "outputs": [
        {
          "output_type": "execute_result",
          "data": {
            "text/plain": [
              "torch.Size([16])"
            ]
          },
          "metadata": {},
          "execution_count": 65
        }
      ],
      "source": [
        "first_token_output = attention_weights[0] @ values\n",
        "first_token_output.shape"
      ]
    },
    {
      "cell_type": "markdown",
      "metadata": {
        "id": "SGGP7BUtfPBm"
      },
      "source": [
        "Again, we can do the computation all at once by computing a matrix multiplication."
      ]
    },
    {
      "cell_type": "code",
      "execution_count": 66,
      "metadata": {
        "id": "v4IpTFIEfPBm"
      },
      "outputs": [],
      "source": [
        "head_output = attention_weights @ values\n",
        "assert torch.allclose(first_token_output, head_output[0])"
      ]
    },
    {
      "cell_type": "markdown",
      "metadata": {
        "id": "TwZYM_QtfPBm"
      },
      "source": [
        "The full attention mechanism has this go through another linear layer, but we'll skip that for now."
      ]
    },
    {
      "cell_type": "markdown",
      "metadata": {
        "id": "g6SKbFHAfPBm"
      },
      "source": [
        "**But wait!** Tokens shouldn't be able to attend to tokens that come after them. We need to **mask out the attention weights** for tokens after the current one.\n",
        "\n",
        "A simple way to do that is to set the dot products to a very small value for tokens that come after the current token. That way, when we apply the softmax, the attention weights will be very close to zero."
      ]
    },
    {
      "cell_type": "code",
      "execution_count": 67,
      "metadata": {
        "id": "kWEc_CNFfPBm",
        "outputId": "b1dd6946-5858-46e0-b7f9-965e36e46963",
        "colab": {
          "base_uri": "https://localhost:8080/",
          "height": 435
        }
      },
      "outputs": [
        {
          "output_type": "display_data",
          "data": {
            "text/plain": [
              "<Figure size 640x480 with 1 Axes>"
            ],
            "image/png": "[encoded data removed]"
          },
          "metadata": {}
        }
      ],
      "source": [
        "sequence_len = x.shape[0]\n",
        "causal_mask = make_causal_mask(sequence_len)\n",
        "plt.imshow(causal_mask.detach().numpy(), cmap=\"cividis\", vmin=-1e9);"
      ]
    },
    {
      "cell_type": "markdown",
      "metadata": {
        "id": "6mo6LQFLfPBm"
      },
      "source": [
        "To apply the so-called \"causal mask\", we can just add it to the dot products before applying the softmax."
      ]
    },
    {
      "cell_type": "code",
      "execution_count": 68,
      "metadata": {
        "id": "dZr8qAsMfPBm",
        "outputId": "88be15aa-d241-4122-bdea-085624b8df4d",
        "colab": {
          "base_uri": "https://localhost:8080/",
          "height": 472
        }
      },
      "outputs": [
        {
          "output_type": "display_data",
          "data": {
            "text/plain": [
              "<Figure size 640x480 with 2 Axes>"
            ],
            "image/png": "[encoded data removed]"
          },
          "metadata": {}
        }
      ],
      "source": [
        "attention_weights = F.softmax((query_key_products + causal_mask) / emb_dim**0.5, dim=-1)\n",
        "plt.imshow(attention_weights.detach().numpy(), cmap=\"cividis\", vmin=0)\n",
        "plt.title(\"Attention weights\")\n",
        "plt.xlabel(\"Key token index\")\n",
        "plt.ylabel(\"Query token index\")\n",
        "plt.colorbar();"
      ]
    },
    {
      "cell_type": "markdown",
      "metadata": {
        "id": "EUaOeBmOfPBn"
      },
      "source": [
        "### Finish the trace\n",
        "\n",
        "We just looked at the self-attention part of the Transformer. *Finish the trace* by going through the rest of the forward pass until you get the logits. (Refer to the code above to see the rest of the forward pass.)\n",
        "\n",
        "At each step, write what the *shape* of the tensor is, and what it represents."
      ]
    },
    {
      "cell_type": "code",
      "source": [
        "# Normalization Layer\n",
        "head_output = model.model.self_attention(x)\n",
        "x = x + head_output\n",
        "x = model.model.norm_1(x)\n",
        "print(tuple(x.shape))"
      ],
      "metadata": {
        "colab": {
          "base_uri": "https://localhost:8080/"
        },
        "id": "w3RGESNBKjfi",
        "outputId": "d78a9182-16f6-4860-e61f-c265b88749c3"
      },
      "execution_count": 72,
      "outputs": [
        {
          "output_type": "stream",
          "name": "stdout",
          "text": [
            "(4, 32)\n"
          ]
        }
      ]
    },
    {
      "cell_type": "markdown",
      "source": [
        "The shape represent output after applying layer normalization to the output of the self-attention mechanism in the transformer layer. 4 represent a token  in the input sequence, and  32 represents the embedding dimension."
      ],
      "metadata": {
        "id": "pJ87RLymNFR_"
      }
    },
    {
      "cell_type": "code",
      "source": [
        "# MLP\n",
        "x = model.model.mlp(x)\n",
        "print(tuple(x.shape))\n"
      ],
      "metadata": {
        "colab": {
          "base_uri": "https://localhost:8080/"
        },
        "id": "zk0YYoghNFB4",
        "outputId": "ddaa3606-1b20-43fc-a6c0-1eb9737bb4eb"
      },
      "execution_count": 73,
      "outputs": [
        {
          "output_type": "stream",
          "name": "stdout",
          "text": [
            "(4, 32)\n"
          ]
        }
      ]
    },
    {
      "cell_type": "markdown",
      "source": [
        "The shape represent the output after passing MLP in the transformer layer. 4 represent a token in the input sequence, and 32 represents the embedding dimension"
      ],
      "metadata": {
        "id": "zeb5_uWmNEq1"
      }
    },
    {
      "cell_type": "code",
      "source": [
        "# Second Normalization Layer\n",
        "x = x + model.model.norm_2(x)\n",
        "print(tuple(x.shape))"
      ],
      "metadata": {
        "colab": {
          "base_uri": "https://localhost:8080/"
        },
        "id": "HN3hSOLWNEW4",
        "outputId": "6cef7658-8013-4fc7-c74e-62264a9ea768"
      },
      "execution_count": 74,
      "outputs": [
        {
          "output_type": "stream",
          "name": "stdout",
          "text": [
            "(4, 32)\n"
          ]
        }
      ]
    },
    {
      "cell_type": "markdown",
      "source": [
        "The shape for this step represent the output after applying layer normalization to the output of the MLP in the transformer layer where 4 represent a token in the input sequence, and 32 represents the embedding dimension."
      ],
      "metadata": {
        "id": "idWulXiJNDuU"
      }
    },
    {
      "cell_type": "code",
      "source": [
        "# LM head Logits\n",
        "logits = model.lm_head(x)\n",
        "print(tuple(logits.shape))"
      ],
      "metadata": {
        "colab": {
          "base_uri": "https://localhost:8080/"
        },
        "id": "-BGpqI4WNC0D",
        "outputId": "805dd1fe-7080-45ba-98f7-69f7e146b55e"
      },
      "execution_count": 75,
      "outputs": [
        {
          "output_type": "stream",
          "name": "stdout",
          "text": [
            "(4, 256)\n"
          ]
        }
      ]
    },
    {
      "cell_type": "markdown",
      "source": [
        "The shape for logits represent the next token prediction generated by passing the output of the second normalization layer through the language model head. 4 represents the token in the input sequence, and 256 represents the probability distribution over the vocabulary for the next token."
      ],
      "metadata": {
        "id": "4ZySV0NV7L5L"
      }
    }
  ],
  "metadata": {
    "kernelspec": {
      "display_name": "Python 3",
      "language": "python",
      "name": "python3"
    },
    "language_info": {
      "codemirror_mode": {
        "name": "ipython",
        "version": 3
      },
      "file_extension": ".py",
      "mimetype": "text/x-python",
      "name": "python",
      "nbconvert_exporter": "python",
      "pygments_lexer": "ipython3",
      "version": "3.12.2"
    },
    "colab": {
      "provenance": [],
      "collapsed_sections": [
        "yDIJKXVdfPBV",
        "7QqDyuudfPBX",
        "ebJSLgTQfPBf",
        "e9XwUcdSfPBh"
      ]
    },
    "widgets": {
      "application/vnd.jupyter.widget-state+json": {
        "b1b57635fdcc47c09efbb724f9f7765c": {
          "model_module": "@jupyter-widgets/controls",
          "model_name": "HBoxModel",
          "model_module_version": "1.5.0",
          "state": {
            "_dom_classes": [],
            "_model_module": "@jupyter-widgets/controls",
            "_model_module_version": "1.5.0",
            "_model_name": "HBoxModel",
            "_view_count": null,
            "_view_module": "@jupyter-widgets/controls",
            "_view_module_version": "1.5.0",
            "_view_name": "HBoxView",
            "box_style": "",
            "children": [
              "IPY_MODEL_16adb70341ed4b749fbb1f0bc20c7bf1",
              "IPY_MODEL_b61f2206289243368b4ae302b5e883b9",
              "IPY_MODEL_1cb9141575704edbad323ce21864c054"
            ],
            "layout": "IPY_MODEL_951a6364844f48a793d0905a04a0a1d0"
          }
        },
        "16adb70341ed4b749fbb1f0bc20c7bf1": {
          "model_module": "@jupyter-widgets/controls",
          "model_name": "HTMLModel",
          "model_module_version": "1.5.0",
          "state": {
            "_dom_classes": [],
            "_model_module": "@jupyter-widgets/controls",
            "_model_module_version": "1.5.0",
            "_model_name": "HTMLModel",
            "_view_count": null,
            "_view_module": "@jupyter-widgets/controls",
            "_view_module_version": "1.5.0",
            "_view_name": "HTMLView",
            "description": "",
            "description_tooltip": null,
            "layout": "IPY_MODEL_93b81a6b5c234b14a69627290b8f2249",
            "placeholder": "​",
            "style": "IPY_MODEL_b724d69726ba410986dad0bf954f1457",
            "value": "Downloading readme: 100%"
          }
        },
        "b61f2206289243368b4ae302b5e883b9": {
          "model_module": "@jupyter-widgets/controls",
          "model_name": "FloatProgressModel",
          "model_module_version": "1.5.0",
          "state": {
            "_dom_classes": [],
            "_model_module": "@jupyter-widgets/controls",
            "_model_module_version": "1.5.0",
            "_model_name": "FloatProgressModel",
            "_view_count": null,
            "_view_module": "@jupyter-widgets/controls",
            "_view_module_version": "1.5.0",
            "_view_name": "ProgressView",
            "bar_style": "success",
            "description": "",
            "description_tooltip": null,
            "layout": "IPY_MODEL_4c3d515f99cc4177b91c3ce24700e2a9",
            "max": 1020,
            "min": 0,
            "orientation": "horizontal",
            "style": "IPY_MODEL_6af45fe9939e421fb6b57693d021a6b6",
            "value": 1020
          }
        },
        "1cb9141575704edbad323ce21864c054": {
          "model_module": "@jupyter-widgets/controls",
          "model_name": "HTMLModel",
          "model_module_version": "1.5.0",
          "state": {
            "_dom_classes": [],
            "_model_module": "@jupyter-widgets/controls",
            "_model_module_version": "1.5.0",
            "_model_name": "HTMLModel",
            "_view_count": null,
            "_view_module": "@jupyter-widgets/controls",
            "_view_module_version": "1.5.0",
            "_view_name": "HTMLView",
            "description": "",
            "description_tooltip": null,
            "layout": "IPY_MODEL_3fba5511e18e4f159e988c9061b212c7",
            "placeholder": "​",
            "style": "IPY_MODEL_1c9c01d5823f418c852ffe3c8a2b5ad6",
            "value": " 1.02k/1.02k [00:00&lt;00:00, 12.1kB/s]"
          }
        },
        "951a6364844f48a793d0905a04a0a1d0": {
          "model_module": "@jupyter-widgets/base",
          "model_name": "LayoutModel",
          "model_module_version": "1.2.0",
          "state": {
            "_model_module": "@jupyter-widgets/base",
            "_model_module_version": "1.2.0",
            "_model_name": "LayoutModel",
            "_view_count": null,
            "_view_module": "@jupyter-widgets/base",
            "_view_module_version": "1.2.0",
            "_view_name": "LayoutView",
            "align_content": null,
            "align_items": null,
            "align_self": null,
            "border": null,
            "bottom": null,
            "display": null,
            "flex": null,
            "flex_flow": null,
            "grid_area": null,
            "grid_auto_columns": null,
            "grid_auto_flow": null,
            "grid_auto_rows": null,
            "grid_column": null,
            "grid_gap": null,
            "grid_row": null,
            "grid_template_areas": null,
            "grid_template_columns": null,
            "grid_template_rows": null,
            "height": null,
            "justify_content": null,
            "justify_items": null,
            "left": null,
            "margin": null,
            "max_height": null,
            "max_width": null,
            "min_height": null,
            "min_width": null,
            "object_fit": null,
            "object_position": null,
            "order": null,
            "overflow": null,
            "overflow_x": null,
            "overflow_y": null,
            "padding": null,
            "right": null,
            "top": null,
            "visibility": null,
            "width": null
          }
        },
        "93b81a6b5c234b14a69627290b8f2249": {
          "model_module": "@jupyter-widgets/base",
          "model_name": "LayoutModel",
          "model_module_version": "1.2.0",
          "state": {
            "_model_module": "@jupyter-widgets/base",
            "_model_module_version": "1.2.0",
            "_model_name": "LayoutModel",
            "_view_count": null,
            "_view_module": "@jupyter-widgets/base",
            "_view_module_version": "1.2.0",
            "_view_name": "LayoutView",
            "align_content": null,
            "align_items": null,
            "align_self": null,
            "border": null,
            "bottom": null,
            "display": null,
            "flex": null,
            "flex_flow": null,
            "grid_area": null,
            "grid_auto_columns": null,
            "grid_auto_flow": null,
            "grid_auto_rows": null,
            "grid_column": null,
            "grid_gap": null,
            "grid_row": null,
            "grid_template_areas": null,
            "grid_template_columns": null,
            "grid_template_rows": null,
            "height": null,
            "justify_content": null,
            "justify_items": null,
            "left": null,
            "margin": null,
            "max_height": null,
            "max_width": null,
            "min_height": null,
            "min_width": null,
            "object_fit": null,
            "object_position": null,
            "order": null,
            "overflow": null,
            "overflow_x": null,
            "overflow_y": null,
            "padding": null,
            "right": null,
            "top": null,
            "visibility": null,
            "width": null
          }
        },
        "b724d69726ba410986dad0bf954f1457": {
          "model_module": "@jupyter-widgets/controls",
          "model_name": "DescriptionStyleModel",
          "model_module_version": "1.5.0",
          "state": {
            "_model_module": "@jupyter-widgets/controls",
            "_model_module_version": "1.5.0",
            "_model_name": "DescriptionStyleModel",
            "_view_count": null,
            "_view_module": "@jupyter-widgets/base",
            "_view_module_version": "1.2.0",
            "_view_name": "StyleView",
            "description_width": ""
          }
        },
        "4c3d515f99cc4177b91c3ce24700e2a9": {
          "model_module": "@jupyter-widgets/base",
          "model_name": "LayoutModel",
          "model_module_version": "1.2.0",
          "state": {
            "_model_module": "@jupyter-widgets/base",
            "_model_module_version": "1.2.0",
            "_model_name": "LayoutModel",
            "_view_count": null,
            "_view_module": "@jupyter-widgets/base",
            "_view_module_version": "1.2.0",
            "_view_name": "LayoutView",
            "align_content": null,
            "align_items": null,
            "align_self": null,
            "border": null,
            "bottom": null,
            "display": null,
            "flex": null,
            "flex_flow": null,
            "grid_area": null,
            "grid_auto_columns": null,
            "grid_auto_flow": null,
            "grid_auto_rows": null,
            "grid_column": null,
            "grid_gap": null,
            "grid_row": null,
            "grid_template_areas": null,
            "grid_template_columns": null,
            "grid_template_rows": null,
            "height": null,
            "justify_content": null,
            "justify_items": null,
            "left": null,
            "margin": null,
            "max_height": null,
            "max_width": null,
            "min_height": null,
            "min_width": null,
            "object_fit": null,
            "object_position": null,
            "order": null,
            "overflow": null,
            "overflow_x": null,
            "overflow_y": null,
            "padding": null,
            "right": null,
            "top": null,
            "visibility": null,
            "width": null
          }
        },
        "6af45fe9939e421fb6b57693d021a6b6": {
          "model_module": "@jupyter-widgets/controls",
          "model_name": "ProgressStyleModel",
          "model_module_version": "1.5.0",
          "state": {
            "_model_module": "@jupyter-widgets/controls",
            "_model_module_version": "1.5.0",
            "_model_name": "ProgressStyleModel",
            "_view_count": null,
            "_view_module": "@jupyter-widgets/base",
            "_view_module_version": "1.2.0",
            "_view_name": "StyleView",
            "bar_color": null,
            "description_width": ""
          }
        },
        "3fba5511e18e4f159e988c9061b212c7": {
          "model_module": "@jupyter-widgets/base",
          "model_name": "LayoutModel",
          "model_module_version": "1.2.0",
          "state": {
            "_model_module": "@jupyter-widgets/base",
            "_model_module_version": "1.2.0",
            "_model_name": "LayoutModel",
            "_view_count": null,
            "_view_module": "@jupyter-widgets/base",
            "_view_module_version": "1.2.0",
            "_view_name": "LayoutView",
            "align_content": null,
            "align_items": null,
            "align_self": null,
            "border": null,
            "bottom": null,
            "display": null,
            "flex": null,
            "flex_flow": null,
            "grid_area": null,
            "grid_auto_columns": null,
            "grid_auto_flow": null,
            "grid_auto_rows": null,
            "grid_column": null,
            "grid_gap": null,
            "grid_row": null,
            "grid_template_areas": null,
            "grid_template_columns": null,
            "grid_template_rows": null,
            "height": null,
            "justify_content": null,
            "justify_items": null,
            "left": null,
            "margin": null,
            "max_height": null,
            "max_width": null,
            "min_height": null,
            "min_width": null,
            "object_fit": null,
            "object_position": null,
            "order": null,
            "overflow": null,
            "overflow_x": null,
            "overflow_y": null,
            "padding": null,
            "right": null,
            "top": null,
            "visibility": null,
            "width": null
          }
        },
        "1c9c01d5823f418c852ffe3c8a2b5ad6": {
          "model_module": "@jupyter-widgets/controls",
          "model_name": "DescriptionStyleModel",
          "model_module_version": "1.5.0",
          "state": {
            "_model_module": "@jupyter-widgets/controls",
            "_model_module_version": "1.5.0",
            "_model_name": "DescriptionStyleModel",
            "_view_count": null,
            "_view_module": "@jupyter-widgets/base",
            "_view_module_version": "1.2.0",
            "_view_name": "StyleView",
            "description_width": ""
          }
        },
        "05b652e8d0c1462092471a87dc010656": {
          "model_module": "@jupyter-widgets/controls",
          "model_name": "HBoxModel",
          "model_module_version": "1.5.0",
          "state": {
            "_dom_classes": [],
            "_model_module": "@jupyter-widgets/controls",
            "_model_module_version": "1.5.0",
            "_model_name": "HBoxModel",
            "_view_count": null,
            "_view_module": "@jupyter-widgets/controls",
            "_view_module_version": "1.5.0",
            "_view_name": "HBoxView",
            "box_style": "",
            "children": [
              "IPY_MODEL_7d8aecf365eb4125800466270e813ae3",
              "IPY_MODEL_d6e4361805134fb1a3f1c152bc7f0a05",
              "IPY_MODEL_b0aa7e2f9fea4da0b5e5bf0272216325"
            ],
            "layout": "IPY_MODEL_1fae3d5765f54be5806a3b3d392e1156"
          }
        },
        "7d8aecf365eb4125800466270e813ae3": {
          "model_module": "@jupyter-widgets/controls",
          "model_name": "HTMLModel",
          "model_module_version": "1.5.0",
          "state": {
            "_dom_classes": [],
            "_model_module": "@jupyter-widgets/controls",
            "_model_module_version": "1.5.0",
            "_model_name": "HTMLModel",
            "_view_count": null,
            "_view_module": "@jupyter-widgets/controls",
            "_view_module_version": "1.5.0",
            "_view_name": "HTMLView",
            "description": "",
            "description_tooltip": null,
            "layout": "IPY_MODEL_3668e7becce14fd59688bbc8fd693466",
            "placeholder": "​",
            "style": "IPY_MODEL_01c5c0ccf4ae41a3bbd256c89cb3dbcf",
            "value": "Downloading data: 100%"
          }
        },
        "d6e4361805134fb1a3f1c152bc7f0a05": {
          "model_module": "@jupyter-widgets/controls",
          "model_name": "FloatProgressModel",
          "model_module_version": "1.5.0",
          "state": {
            "_dom_classes": [],
            "_model_module": "@jupyter-widgets/controls",
            "_model_module_version": "1.5.0",
            "_model_name": "FloatProgressModel",
            "_view_count": null,
            "_view_module": "@jupyter-widgets/controls",
            "_view_module_version": "1.5.0",
            "_view_name": "ProgressView",
            "bar_style": "success",
            "description": "",
            "description_tooltip": null,
            "layout": "IPY_MODEL_1598fefcbe8d4be1baaefa6a8feb8117",
            "max": 248731111,
            "min": 0,
            "orientation": "horizontal",
            "style": "IPY_MODEL_83bd39202f4448659eea46c85e399d4b",
            "value": 248731111
          }
        },
        "b0aa7e2f9fea4da0b5e5bf0272216325": {
          "model_module": "@jupyter-widgets/controls",
          "model_name": "HTMLModel",
          "model_module_version": "1.5.0",
          "state": {
            "_dom_classes": [],
            "_model_module": "@jupyter-widgets/controls",
            "_model_module_version": "1.5.0",
            "_model_name": "HTMLModel",
            "_view_count": null,
            "_view_module": "@jupyter-widgets/controls",
            "_view_module_version": "1.5.0",
            "_view_name": "HTMLView",
            "description": "",
            "description_tooltip": null,
            "layout": "IPY_MODEL_14de33b1e16343d4b07638083fa20dfb",
            "placeholder": "​",
            "style": "IPY_MODEL_9e14babf20c349c39dc9ff4e1c744d1a",
            "value": " 249M/249M [00:08&lt;00:00, 43.9MB/s]"
          }
        },
        "1fae3d5765f54be5806a3b3d392e1156": {
          "model_module": "@jupyter-widgets/base",
          "model_name": "LayoutModel",
          "model_module_version": "1.2.0",
          "state": {
            "_model_module": "@jupyter-widgets/base",
            "_model_module_version": "1.2.0",
            "_model_name": "LayoutModel",
            "_view_count": null,
            "_view_module": "@jupyter-widgets/base",
            "_view_module_version": "1.2.0",
            "_view_name": "LayoutView",
            "align_content": null,
            "align_items": null,
            "align_self": null,
            "border": null,
            "bottom": null,
            "display": null,
            "flex": null,
            "flex_flow": null,
            "grid_area": null,
            "grid_auto_columns": null,
            "grid_auto_flow": null,
            "grid_auto_rows": null,
            "grid_column": null,
            "grid_gap": null,
            "grid_row": null,
            "grid_template_areas": null,
            "grid_template_columns": null,
            "grid_template_rows": null,
            "height": null,
            "justify_content": null,
            "justify_items": null,
            "left": null,
            "margin": null,
            "max_height": null,
            "max_width": null,
            "min_height": null,
            "min_width": null,
            "object_fit": null,
            "object_position": null,
            "order": null,
            "overflow": null,
            "overflow_x": null,
            "overflow_y": null,
            "padding": null,
            "right": null,
            "top": null,
            "visibility": null,
            "width": null
          }
        },
        "3668e7becce14fd59688bbc8fd693466": {
          "model_module": "@jupyter-widgets/base",
          "model_name": "LayoutModel",
          "model_module_version": "1.2.0",
          "state": {
            "_model_module": "@jupyter-widgets/base",
            "_model_module_version": "1.2.0",
            "_model_name": "LayoutModel",
            "_view_count": null,
            "_view_module": "@jupyter-widgets/base",
            "_view_module_version": "1.2.0",
            "_view_name": "LayoutView",
            "align_content": null,
            "align_items": null,
            "align_self": null,
            "border": null,
            "bottom": null,
            "display": null,
            "flex": null,
            "flex_flow": null,
            "grid_area": null,
            "grid_auto_columns": null,
            "grid_auto_flow": null,
            "grid_auto_rows": null,
            "grid_column": null,
            "grid_gap": null,
            "grid_row": null,
            "grid_template_areas": null,
            "grid_template_columns": null,
            "grid_template_rows": null,
            "height": null,
            "justify_content": null,
            "justify_items": null,
            "left": null,
            "margin": null,
            "max_height": null,
            "max_width": null,
            "min_height": null,
            "min_width": null,
            "object_fit": null,
            "object_position": null,
            "order": null,
            "overflow": null,
            "overflow_x": null,
            "overflow_y": null,
            "padding": null,
            "right": null,
            "top": null,
            "visibility": null,
            "width": null
          }
        },
        "01c5c0ccf4ae41a3bbd256c89cb3dbcf": {
          "model_module": "@jupyter-widgets/controls",
          "model_name": "DescriptionStyleModel",
          "model_module_version": "1.5.0",
          "state": {
            "_model_module": "@jupyter-widgets/controls",
            "_model_module_version": "1.5.0",
            "_model_name": "DescriptionStyleModel",
            "_view_count": null,
            "_view_module": "@jupyter-widgets/base",
            "_view_module_version": "1.2.0",
            "_view_name": "StyleView",
            "description_width": ""
          }
        },
        "1598fefcbe8d4be1baaefa6a8feb8117": {
          "model_module": "@jupyter-widgets/base",
          "model_name": "LayoutModel",
          "model_module_version": "1.2.0",
          "state": {
            "_model_module": "@jupyter-widgets/base",
            "_model_module_version": "1.2.0",
            "_model_name": "LayoutModel",
            "_view_count": null,
            "_view_module": "@jupyter-widgets/base",
            "_view_module_version": "1.2.0",
            "_view_name": "LayoutView",
            "align_content": null,
            "align_items": null,
            "align_self": null,
            "border": null,
            "bottom": null,
            "display": null,
            "flex": null,
            "flex_flow": null,
            "grid_area": null,
            "grid_auto_columns": null,
            "grid_auto_flow": null,
            "grid_auto_rows": null,
            "grid_column": null,
            "grid_gap": null,
            "grid_row": null,
            "grid_template_areas": null,
            "grid_template_columns": null,
            "grid_template_rows": null,
            "height": null,
            "justify_content": null,
            "justify_items": null,
            "left": null,
            "margin": null,
            "max_height": null,
            "max_width": null,
            "min_height": null,
            "min_width": null,
            "object_fit": null,
            "object_position": null,
            "order": null,
            "overflow": null,
            "overflow_x": null,
            "overflow_y": null,
            "padding": null,
            "right": null,
            "top": null,
            "visibility": null,
            "width": null
          }
        },
        "83bd39202f4448659eea46c85e399d4b": {
          "model_module": "@jupyter-widgets/controls",
          "model_name": "ProgressStyleModel",
          "model_module_version": "1.5.0",
          "state": {
            "_model_module": "@jupyter-widgets/controls",
            "_model_module_version": "1.5.0",
            "_model_name": "ProgressStyleModel",
            "_view_count": null,
            "_view_module": "@jupyter-widgets/base",
            "_view_module_version": "1.2.0",
            "_view_name": "StyleView",
            "bar_color": null,
            "description_width": ""
          }
        },
        "14de33b1e16343d4b07638083fa20dfb": {
          "model_module": "@jupyter-widgets/base",
          "model_name": "LayoutModel",
          "model_module_version": "1.2.0",
          "state": {
            "_model_module": "@jupyter-widgets/base",
            "_model_module_version": "1.2.0",
            "_model_name": "LayoutModel",
            "_view_count": null,
            "_view_module": "@jupyter-widgets/base",
            "_view_module_version": "1.2.0",
            "_view_name": "LayoutView",
            "align_content": null,
            "align_items": null,
            "align_self": null,
            "border": null,
            "bottom": null,
            "display": null,
            "flex": null,
            "flex_flow": null,
            "grid_area": null,
            "grid_auto_columns": null,
            "grid_auto_flow": null,
            "grid_auto_rows": null,
            "grid_column": null,
            "grid_gap": null,
            "grid_row": null,
            "grid_template_areas": null,
            "grid_template_columns": null,
            "grid_template_rows": null,
            "height": null,
            "justify_content": null,
            "justify_items": null,
            "left": null,
            "margin": null,
            "max_height": null,
            "max_width": null,
            "min_height": null,
            "min_width": null,
            "object_fit": null,
            "object_position": null,
            "order": null,
            "overflow": null,
            "overflow_x": null,
            "overflow_y": null,
            "padding": null,
            "right": null,
            "top": null,
            "visibility": null,
            "width": null
          }
        },
        "9e14babf20c349c39dc9ff4e1c744d1a": {
          "model_module": "@jupyter-widgets/controls",
          "model_name": "DescriptionStyleModel",
          "model_module_version": "1.5.0",
          "state": {
            "_model_module": "@jupyter-widgets/controls",
            "_model_module_version": "1.5.0",
            "_model_name": "DescriptionStyleModel",
            "_view_count": null,
            "_view_module": "@jupyter-widgets/base",
            "_view_module_version": "1.2.0",
            "_view_name": "StyleView",
            "description_width": ""
          }
        },
        "3641a29c6ec446a3838484690a350571": {
          "model_module": "@jupyter-widgets/controls",
          "model_name": "HBoxModel",
          "model_module_version": "1.5.0",
          "state": {
            "_dom_classes": [],
            "_model_module": "@jupyter-widgets/controls",
            "_model_module_version": "1.5.0",
            "_model_name": "HBoxModel",
            "_view_count": null,
            "_view_module": "@jupyter-widgets/controls",
            "_view_module_version": "1.5.0",
            "_view_name": "HBoxView",
            "box_style": "",
            "children": [
              "IPY_MODEL_8f347d7cbd2242579191f215c651050e",
              "IPY_MODEL_4be011f2de2545f98f72a79f70e0e414",
              "IPY_MODEL_0a13a262b94b45f5895150241f635682"
            ],
            "layout": "IPY_MODEL_22b70ff8e0704dc795cc3358121e0422"
          }
        },
        "8f347d7cbd2242579191f215c651050e": {
          "model_module": "@jupyter-widgets/controls",
          "model_name": "HTMLModel",
          "model_module_version": "1.5.0",
          "state": {
            "_dom_classes": [],
            "_model_module": "@jupyter-widgets/controls",
            "_model_module_version": "1.5.0",
            "_model_name": "HTMLModel",
            "_view_count": null,
            "_view_module": "@jupyter-widgets/controls",
            "_view_module_version": "1.5.0",
            "_view_name": "HTMLView",
            "description": "",
            "description_tooltip": null,
            "layout": "IPY_MODEL_a11ee82f22ef455da4df9eec8a638855",
            "placeholder": "​",
            "style": "IPY_MODEL_9f1381cc36984bc78fb940b37ad2c52a",
            "value": "Downloading data: 100%"
          }
        },
        "4be011f2de2545f98f72a79f70e0e414": {
          "model_module": "@jupyter-widgets/controls",
          "model_name": "FloatProgressModel",
          "model_module_version": "1.5.0",
          "state": {
            "_dom_classes": [],
            "_model_module": "@jupyter-widgets/controls",
            "_model_module_version": "1.5.0",
            "_model_name": "FloatProgressModel",
            "_view_count": null,
            "_view_module": "@jupyter-widgets/controls",
            "_view_module_version": "1.5.0",
            "_view_name": "ProgressView",
            "bar_style": "success",
            "description": "",
            "description_tooltip": null,
            "layout": "IPY_MODEL_6999df41495c41fbbd662dfe2d0bc525",
            "max": 248171980,
            "min": 0,
            "orientation": "horizontal",
            "style": "IPY_MODEL_703a4b28cec64307b4c45583f6998274",
            "value": 248171980
          }
        },
        "0a13a262b94b45f5895150241f635682": {
          "model_module": "@jupyter-widgets/controls",
          "model_name": "HTMLModel",
          "model_module_version": "1.5.0",
          "state": {
            "_dom_classes": [],
            "_model_module": "@jupyter-widgets/controls",
            "_model_module_version": "1.5.0",
            "_model_name": "HTMLModel",
            "_view_count": null,
            "_view_module": "@jupyter-widgets/controls",
            "_view_module_version": "1.5.0",
            "_view_name": "HTMLView",
            "description": "",
            "description_tooltip": null,
            "layout": "IPY_MODEL_d19329416505430d8c0f2d66aac80816",
            "placeholder": "​",
            "style": "IPY_MODEL_e53f2b4ad49a466c9af74d20dadde8d2",
            "value": " 248M/248M [00:07&lt;00:00, 30.8MB/s]"
          }
        },
        "22b70ff8e0704dc795cc3358121e0422": {
          "model_module": "@jupyter-widgets/base",
          "model_name": "LayoutModel",
          "model_module_version": "1.2.0",
          "state": {
            "_model_module": "@jupyter-widgets/base",
            "_model_module_version": "1.2.0",
            "_model_name": "LayoutModel",
            "_view_count": null,
            "_view_module": "@jupyter-widgets/base",
            "_view_module_version": "1.2.0",
            "_view_name": "LayoutView",
            "align_content": null,
            "align_items": null,
            "align_self": null,
            "border": null,
            "bottom": null,
            "display": null,
            "flex": null,
            "flex_flow": null,
            "grid_area": null,
            "grid_auto_columns": null,
            "grid_auto_flow": null,
            "grid_auto_rows": null,
            "grid_column": null,
            "grid_gap": null,
            "grid_row": null,
            "grid_template_areas": null,
            "grid_template_columns": null,
            "grid_template_rows": null,
            "height": null,
            "justify_content": null,
            "justify_items": null,
            "left": null,
            "margin": null,
            "max_height": null,
            "max_width": null,
            "min_height": null,
            "min_width": null,
            "object_fit": null,
            "object_position": null,
            "order": null,
            "overflow": null,
            "overflow_x": null,
            "overflow_y": null,
            "padding": null,
            "right": null,
            "top": null,
            "visibility": null,
            "width": null
          }
        },
        "a11ee82f22ef455da4df9eec8a638855": {
          "model_module": "@jupyter-widgets/base",
          "model_name": "LayoutModel",
          "model_module_version": "1.2.0",
          "state": {
            "_model_module": "@jupyter-widgets/base",
            "_model_module_version": "1.2.0",
            "_model_name": "LayoutModel",
            "_view_count": null,
            "_view_module": "@jupyter-widgets/base",
            "_view_module_version": "1.2.0",
            "_view_name": "LayoutView",
            "align_content": null,
            "align_items": null,
            "align_self": null,
            "border": null,
            "bottom": null,
            "display": null,
            "flex": null,
            "flex_flow": null,
            "grid_area": null,
            "grid_auto_columns": null,
            "grid_auto_flow": null,
            "grid_auto_rows": null,
            "grid_column": null,
            "grid_gap": null,
            "grid_row": null,
            "grid_template_areas": null,
            "grid_template_columns": null,
            "grid_template_rows": null,
            "height": null,
            "justify_content": null,
            "justify_items": null,
            "left": null,
            "margin": null,
            "max_height": null,
            "max_width": null,
            "min_height": null,
            "min_width": null,
            "object_fit": null,
            "object_position": null,
            "order": null,
            "overflow": null,
            "overflow_x": null,
            "overflow_y": null,
            "padding": null,
            "right": null,
            "top": null,
            "visibility": null,
            "width": null
          }
        },
        "9f1381cc36984bc78fb940b37ad2c52a": {
          "model_module": "@jupyter-widgets/controls",
          "model_name": "DescriptionStyleModel",
          "model_module_version": "1.5.0",
          "state": {
            "_model_module": "@jupyter-widgets/controls",
            "_model_module_version": "1.5.0",
            "_model_name": "DescriptionStyleModel",
            "_view_count": null,
            "_view_module": "@jupyter-widgets/base",
            "_view_module_version": "1.2.0",
            "_view_name": "StyleView",
            "description_width": ""
          }
        },
        "6999df41495c41fbbd662dfe2d0bc525": {
          "model_module": "@jupyter-widgets/base",
          "model_name": "LayoutModel",
          "model_module_version": "1.2.0",
          "state": {
            "_model_module": "@jupyter-widgets/base",
            "_model_module_version": "1.2.0",
            "_model_name": "LayoutModel",
            "_view_count": null,
            "_view_module": "@jupyter-widgets/base",
            "_view_module_version": "1.2.0",
            "_view_name": "LayoutView",
            "align_content": null,
            "align_items": null,
            "align_self": null,
            "border": null,
            "bottom": null,
            "display": null,
            "flex": null,
            "flex_flow": null,
            "grid_area": null,
            "grid_auto_columns": null,
            "grid_auto_flow": null,
            "grid_auto_rows": null,
            "grid_column": null,
            "grid_gap": null,
            "grid_row": null,
            "grid_template_areas": null,
            "grid_template_columns": null,
            "grid_template_rows": null,
            "height": null,
            "justify_content": null,
            "justify_items": null,
            "left": null,
            "margin": null,
            "max_height": null,
            "max_width": null,
            "min_height": null,
            "min_width": null,
            "object_fit": null,
            "object_position": null,
            "order": null,
            "overflow": null,
            "overflow_x": null,
            "overflow_y": null,
            "padding": null,
            "right": null,
            "top": null,
            "visibility": null,
            "width": null
          }
        },
        "703a4b28cec64307b4c45583f6998274": {
          "model_module": "@jupyter-widgets/controls",
          "model_name": "ProgressStyleModel",
          "model_module_version": "1.5.0",
          "state": {
            "_model_module": "@jupyter-widgets/controls",
            "_model_module_version": "1.5.0",
            "_model_name": "ProgressStyleModel",
            "_view_count": null,
            "_view_module": "@jupyter-widgets/base",
            "_view_module_version": "1.2.0",
            "_view_name": "StyleView",
            "bar_color": null,
            "description_width": ""
          }
        },
        "d19329416505430d8c0f2d66aac80816": {
          "model_module": "@jupyter-widgets/base",
          "model_name": "LayoutModel",
          "model_module_version": "1.2.0",
          "state": {
            "_model_module": "@jupyter-widgets/base",
            "_model_module_version": "1.2.0",
            "_model_name": "LayoutModel",
            "_view_count": null,
            "_view_module": "@jupyter-widgets/base",
            "_view_module_version": "1.2.0",
            "_view_name": "LayoutView",
            "align_content": null,
            "align_items": null,
            "align_self": null,
            "border": null,
            "bottom": null,
            "display": null,
            "flex": null,
            "flex_flow": null,
            "grid_area": null,
            "grid_auto_columns": null,
            "grid_auto_flow": null,
            "grid_auto_rows": null,
            "grid_column": null,
            "grid_gap": null,
            "grid_row": null,
            "grid_template_areas": null,
            "grid_template_columns": null,
            "grid_template_rows": null,
            "height": null,
            "justify_content": null,
            "justify_items": null,
            "left": null,
            "margin": null,
            "max_height": null,
            "max_width": null,
            "min_height": null,
            "min_width": null,
            "object_fit": null,
            "object_position": null,
            "order": null,
            "overflow": null,
            "overflow_x": null,
            "overflow_y": null,
            "padding": null,
            "right": null,
            "top": null,
            "visibility": null,
            "width": null
          }
        },
        "e53f2b4ad49a466c9af74d20dadde8d2": {
          "model_module": "@jupyter-widgets/controls",
          "model_name": "DescriptionStyleModel",
          "model_module_version": "1.5.0",
          "state": {
            "_model_module": "@jupyter-widgets/controls",
            "_model_module_version": "1.5.0",
            "_model_name": "DescriptionStyleModel",
            "_view_count": null,
            "_view_module": "@jupyter-widgets/base",
            "_view_module_version": "1.2.0",
            "_view_name": "StyleView",
            "description_width": ""
          }
        },
        "76c65817ab134dc4b37f3215a98e81eb": {
          "model_module": "@jupyter-widgets/controls",
          "model_name": "HBoxModel",
          "model_module_version": "1.5.0",
          "state": {
            "_dom_classes": [],
            "_model_module": "@jupyter-widgets/controls",
            "_model_module_version": "1.5.0",
            "_model_name": "HBoxModel",
            "_view_count": null,
            "_view_module": "@jupyter-widgets/controls",
            "_view_module_version": "1.5.0",
            "_view_name": "HBoxView",
            "box_style": "",
            "children": [
              "IPY_MODEL_c016c8b924df4a17b508b86d463a9c16",
              "IPY_MODEL_30d64118d51949de93843788af405bce",
              "IPY_MODEL_8261318aaef34555a1f9613588ab1d49"
            ],
            "layout": "IPY_MODEL_08a4056a5160403c8359b49e322c928a"
          }
        },
        "c016c8b924df4a17b508b86d463a9c16": {
          "model_module": "@jupyter-widgets/controls",
          "model_name": "HTMLModel",
          "model_module_version": "1.5.0",
          "state": {
            "_dom_classes": [],
            "_model_module": "@jupyter-widgets/controls",
            "_model_module_version": "1.5.0",
            "_model_name": "HTMLModel",
            "_view_count": null,
            "_view_module": "@jupyter-widgets/controls",
            "_view_module_version": "1.5.0",
            "_view_name": "HTMLView",
            "description": "",
            "description_tooltip": null,
            "layout": "IPY_MODEL_a7be0bb94bc149e6b2744798be7cfc69",
            "placeholder": "​",
            "style": "IPY_MODEL_2ddd25c6a67a4477b56228ab2c5de12b",
            "value": "Downloading data: 100%"
          }
        },
        "30d64118d51949de93843788af405bce": {
          "model_module": "@jupyter-widgets/controls",
          "model_name": "FloatProgressModel",
          "model_module_version": "1.5.0",
          "state": {
            "_dom_classes": [],
            "_model_module": "@jupyter-widgets/controls",
            "_model_module_version": "1.5.0",
            "_model_name": "FloatProgressModel",
            "_view_count": null,
            "_view_module": "@jupyter-widgets/controls",
            "_view_module_version": "1.5.0",
            "_view_name": "ProgressView",
            "bar_style": "success",
            "description": "",
            "description_tooltip": null,
            "layout": "IPY_MODEL_4c0b40cd09184fdfbc01f22414941bd7",
            "max": 245894874,
            "min": 0,
            "orientation": "horizontal",
            "style": "IPY_MODEL_aeaa3d816aec47e5a4f6a39c5b52fce5",
            "value": 245894874
          }
        },
        "8261318aaef34555a1f9613588ab1d49": {
          "model_module": "@jupyter-widgets/controls",
          "model_name": "HTMLModel",
          "model_module_version": "1.5.0",
          "state": {
            "_dom_classes": [],
            "_model_module": "@jupyter-widgets/controls",
            "_model_module_version": "1.5.0",
            "_model_name": "HTMLModel",
            "_view_count": null,
            "_view_module": "@jupyter-widgets/controls",
            "_view_module_version": "1.5.0",
            "_view_name": "HTMLView",
            "description": "",
            "description_tooltip": null,
            "layout": "IPY_MODEL_a062f14af19146dd93222efea11618ce",
            "placeholder": "​",
            "style": "IPY_MODEL_742288e732554c919e21b194fc62c46a",
            "value": " 246M/246M [00:04&lt;00:00, 53.5MB/s]"
          }
        },
        "08a4056a5160403c8359b49e322c928a": {
          "model_module": "@jupyter-widgets/base",
          "model_name": "LayoutModel",
          "model_module_version": "1.2.0",
          "state": {
            "_model_module": "@jupyter-widgets/base",
            "_model_module_version": "1.2.0",
            "_model_name": "LayoutModel",
            "_view_count": null,
            "_view_module": "@jupyter-widgets/base",
            "_view_module_version": "1.2.0",
            "_view_name": "LayoutView",
            "align_content": null,
            "align_items": null,
            "align_self": null,
            "border": null,
            "bottom": null,
            "display": null,
            "flex": null,
            "flex_flow": null,
            "grid_area": null,
            "grid_auto_columns": null,
            "grid_auto_flow": null,
            "grid_auto_rows": null,
            "grid_column": null,
            "grid_gap": null,
            "grid_row": null,
            "grid_template_areas": null,
            "grid_template_columns": null,
            "grid_template_rows": null,
            "height": null,
            "justify_content": null,
            "justify_items": null,
            "left": null,
            "margin": null,
            "max_height": null,
            "max_width": null,
            "min_height": null,
            "min_width": null,
            "object_fit": null,
            "object_position": null,
            "order": null,
            "overflow": null,
            "overflow_x": null,
            "overflow_y": null,
            "padding": null,
            "right": null,
            "top": null,
            "visibility": null,
            "width": null
          }
        },
        "a7be0bb94bc149e6b2744798be7cfc69": {
          "model_module": "@jupyter-widgets/base",
          "model_name": "LayoutModel",
          "model_module_version": "1.2.0",
          "state": {
            "_model_module": "@jupyter-widgets/base",
            "_model_module_version": "1.2.0",
            "_model_name": "LayoutModel",
            "_view_count": null,
            "_view_module": "@jupyter-widgets/base",
            "_view_module_version": "1.2.0",
            "_view_name": "LayoutView",
            "align_content": null,
            "align_items": null,
            "align_self": null,
            "border": null,
            "bottom": null,
            "display": null,
            "flex": null,
            "flex_flow": null,
            "grid_area": null,
            "grid_auto_columns": null,
            "grid_auto_flow": null,
            "grid_auto_rows": null,
            "grid_column": null,
            "grid_gap": null,
            "grid_row": null,
            "grid_template_areas": null,
            "grid_template_columns": null,
            "grid_template_rows": null,
            "height": null,
            "justify_content": null,
            "justify_items": null,
            "left": null,
            "margin": null,
            "max_height": null,
            "max_width": null,
            "min_height": null,
            "min_width": null,
            "object_fit": null,
            "object_position": null,
            "order": null,
            "overflow": null,
            "overflow_x": null,
            "overflow_y": null,
            "padding": null,
            "right": null,
            "top": null,
            "visibility": null,
            "width": null
          }
        },
        "2ddd25c6a67a4477b56228ab2c5de12b": {
          "model_module": "@jupyter-widgets/controls",
          "model_name": "DescriptionStyleModel",
          "model_module_version": "1.5.0",
          "state": {
            "_model_module": "@jupyter-widgets/controls",
            "_model_module_version": "1.5.0",
            "_model_name": "DescriptionStyleModel",
            "_view_count": null,
            "_view_module": "@jupyter-widgets/base",
            "_view_module_version": "1.2.0",
            "_view_name": "StyleView",
            "description_width": ""
          }
        },
        "4c0b40cd09184fdfbc01f22414941bd7": {
          "model_module": "@jupyter-widgets/base",
          "model_name": "LayoutModel",
          "model_module_version": "1.2.0",
          "state": {
            "_model_module": "@jupyter-widgets/base",
            "_model_module_version": "1.2.0",
            "_model_name": "LayoutModel",
            "_view_count": null,
            "_view_module": "@jupyter-widgets/base",
            "_view_module_version": "1.2.0",
            "_view_name": "LayoutView",
            "align_content": null,
            "align_items": null,
            "align_self": null,
            "border": null,
            "bottom": null,
            "display": null,
            "flex": null,
            "flex_flow": null,
            "grid_area": null,
            "grid_auto_columns": null,
            "grid_auto_flow": null,
            "grid_auto_rows": null,
            "grid_column": null,
            "grid_gap": null,
            "grid_row": null,
            "grid_template_areas": null,
            "grid_template_columns": null,
            "grid_template_rows": null,
            "height": null,
            "justify_content": null,
            "justify_items": null,
            "left": null,
            "margin": null,
            "max_height": null,
            "max_width": null,
            "min_height": null,
            "min_width": null,
            "object_fit": null,
            "object_position": null,
            "order": null,
            "overflow": null,
            "overflow_x": null,
            "overflow_y": null,
            "padding": null,
            "right": null,
            "top": null,
            "visibility": null,
            "width": null
          }
        },
        "aeaa3d816aec47e5a4f6a39c5b52fce5": {
          "model_module": "@jupyter-widgets/controls",
          "model_name": "ProgressStyleModel",
          "model_module_version": "1.5.0",
          "state": {
            "_model_module": "@jupyter-widgets/controls",
            "_model_module_version": "1.5.0",
            "_model_name": "ProgressStyleModel",
            "_view_count": null,
            "_view_module": "@jupyter-widgets/base",
            "_view_module_version": "1.2.0",
            "_view_name": "StyleView",
            "bar_color": null,
            "description_width": ""
          }
        },
        "a062f14af19146dd93222efea11618ce": {
          "model_module": "@jupyter-widgets/base",
          "model_name": "LayoutModel",
          "model_module_version": "1.2.0",
          "state": {
            "_model_module": "@jupyter-widgets/base",
            "_model_module_version": "1.2.0",
            "_model_name": "LayoutModel",
            "_view_count": null,
            "_view_module": "@jupyter-widgets/base",
            "_view_module_version": "1.2.0",
            "_view_name": "LayoutView",
            "align_content": null,
            "align_items": null,
            "align_self": null,
            "border": null,
            "bottom": null,
            "display": null,
            "flex": null,
            "flex_flow": null,
            "grid_area": null,
            "grid_auto_columns": null,
            "grid_auto_flow": null,
            "grid_auto_rows": null,
            "grid_column": null,
            "grid_gap": null,
            "grid_row": null,
            "grid_template_areas": null,
            "grid_template_columns": null,
            "grid_template_rows": null,
            "height": null,
            "justify_content": null,
            "justify_items": null,
            "left": null,
            "margin": null,
            "max_height": null,
            "max_width": null,
            "min_height": null,
            "min_width": null,
            "object_fit": null,
            "object_position": null,
            "order": null,
            "overflow": null,
            "overflow_x": null,
            "overflow_y": null,
            "padding": null,
            "right": null,
            "top": null,
            "visibility": null,
            "width": null
          }
        },
        "742288e732554c919e21b194fc62c46a": {
          "model_module": "@jupyter-widgets/controls",
          "model_name": "DescriptionStyleModel",
          "model_module_version": "1.5.0",
          "state": {
            "_model_module": "@jupyter-widgets/controls",
            "_model_module_version": "1.5.0",
            "_model_name": "DescriptionStyleModel",
            "_view_count": null,
            "_view_module": "@jupyter-widgets/base",
            "_view_module_version": "1.2.0",
            "_view_name": "StyleView",
            "description_width": ""
          }
        },
        "cc4eb16ef92842bdbd4086ba444f68b9": {
          "model_module": "@jupyter-widgets/controls",
          "model_name": "HBoxModel",
          "model_module_version": "1.5.0",
          "state": {
            "_dom_classes": [],
            "_model_module": "@jupyter-widgets/controls",
            "_model_module_version": "1.5.0",
            "_model_name": "HBoxModel",
            "_view_count": null,
            "_view_module": "@jupyter-widgets/controls",
            "_view_module_version": "1.5.0",
            "_view_name": "HBoxView",
            "box_style": "",
            "children": [
              "IPY_MODEL_6591457ea3b54594a2cb9b316df4cce6",
              "IPY_MODEL_9ff973cb9a5e4a5c97e826f4f993e8c9",
              "IPY_MODEL_e5923d30891a40f395c66ac251b7e6f7"
            ],
            "layout": "IPY_MODEL_fb9c250ad07147d69f4be63f4cca87d2"
          }
        },
        "6591457ea3b54594a2cb9b316df4cce6": {
          "model_module": "@jupyter-widgets/controls",
          "model_name": "HTMLModel",
          "model_module_version": "1.5.0",
          "state": {
            "_dom_classes": [],
            "_model_module": "@jupyter-widgets/controls",
            "_model_module_version": "1.5.0",
            "_model_name": "HTMLModel",
            "_view_count": null,
            "_view_module": "@jupyter-widgets/controls",
            "_view_module_version": "1.5.0",
            "_view_name": "HTMLView",
            "description": "",
            "description_tooltip": null,
            "layout": "IPY_MODEL_fde38797f2494673bd1fe471ea80f60c",
            "placeholder": "​",
            "style": "IPY_MODEL_b4b964e4fd6e49418b2b8d9e4e0954b2",
            "value": "Downloading data: 100%"
          }
        },
        "9ff973cb9a5e4a5c97e826f4f993e8c9": {
          "model_module": "@jupyter-widgets/controls",
          "model_name": "FloatProgressModel",
          "model_module_version": "1.5.0",
          "state": {
            "_dom_classes": [],
            "_model_module": "@jupyter-widgets/controls",
            "_model_module_version": "1.5.0",
            "_model_name": "FloatProgressModel",
            "_view_count": null,
            "_view_module": "@jupyter-widgets/controls",
            "_view_module_version": "1.5.0",
            "_view_name": "ProgressView",
            "bar_style": "success",
            "description": "",
            "description_tooltip": null,
            "layout": "IPY_MODEL_c93e395b51f54895a2c697f276e2ddc9",
            "max": 247988350,
            "min": 0,
            "orientation": "horizontal",
            "style": "IPY_MODEL_e363b5fc2523474c988d13e5ac26f190",
            "value": 247988350
          }
        },
        "e5923d30891a40f395c66ac251b7e6f7": {
          "model_module": "@jupyter-widgets/controls",
          "model_name": "HTMLModel",
          "model_module_version": "1.5.0",
          "state": {
            "_dom_classes": [],
            "_model_module": "@jupyter-widgets/controls",
            "_model_module_version": "1.5.0",
            "_model_name": "HTMLModel",
            "_view_count": null,
            "_view_module": "@jupyter-widgets/controls",
            "_view_module_version": "1.5.0",
            "_view_name": "HTMLView",
            "description": "",
            "description_tooltip": null,
            "layout": "IPY_MODEL_6681eb42b2cf4c51a68d558879d0d398",
            "placeholder": "​",
            "style": "IPY_MODEL_fb61c148017d49cb944127031870f4cf",
            "value": " 248M/248M [00:05&lt;00:00, 41.8MB/s]"
          }
        },
        "fb9c250ad07147d69f4be63f4cca87d2": {
          "model_module": "@jupyter-widgets/base",
          "model_name": "LayoutModel",
          "model_module_version": "1.2.0",
          "state": {
            "_model_module": "@jupyter-widgets/base",
            "_model_module_version": "1.2.0",
            "_model_name": "LayoutModel",
            "_view_count": null,
            "_view_module": "@jupyter-widgets/base",
            "_view_module_version": "1.2.0",
            "_view_name": "LayoutView",
            "align_content": null,
            "align_items": null,
            "align_self": null,
            "border": null,
            "bottom": null,
            "display": null,
            "flex": null,
            "flex_flow": null,
            "grid_area": null,
            "grid_auto_columns": null,
            "grid_auto_flow": null,
            "grid_auto_rows": null,
            "grid_column": null,
            "grid_gap": null,
            "grid_row": null,
            "grid_template_areas": null,
            "grid_template_columns": null,
            "grid_template_rows": null,
            "height": null,
            "justify_content": null,
            "justify_items": null,
            "left": null,
            "margin": null,
            "max_height": null,
            "max_width": null,
            "min_height": null,
            "min_width": null,
            "object_fit": null,
            "object_position": null,
            "order": null,
            "overflow": null,
            "overflow_x": null,
            "overflow_y": null,
            "padding": null,
            "right": null,
            "top": null,
            "visibility": null,
            "width": null
          }
        },
        "fde38797f2494673bd1fe471ea80f60c": {
          "model_module": "@jupyter-widgets/base",
          "model_name": "LayoutModel",
          "model_module_version": "1.2.0",
          "state": {
            "_model_module": "@jupyter-widgets/base",
            "_model_module_version": "1.2.0",
            "_model_name": "LayoutModel",
            "_view_count": null,
            "_view_module": "@jupyter-widgets/base",
            "_view_module_version": "1.2.0",
            "_view_name": "LayoutView",
            "align_content": null,
            "align_items": null,
            "align_self": null,
            "border": null,
            "bottom": null,
            "display": null,
            "flex": null,
            "flex_flow": null,
            "grid_area": null,
            "grid_auto_columns": null,
            "grid_auto_flow": null,
            "grid_auto_rows": null,
            "grid_column": null,
            "grid_gap": null,
            "grid_row": null,
            "grid_template_areas": null,
            "grid_template_columns": null,
            "grid_template_rows": null,
            "height": null,
            "justify_content": null,
            "justify_items": null,
            "left": null,
            "margin": null,
            "max_height": null,
            "max_width": null,
            "min_height": null,
            "min_width": null,
            "object_fit": null,
            "object_position": null,
            "order": null,
            "overflow": null,
            "overflow_x": null,
            "overflow_y": null,
            "padding": null,
            "right": null,
            "top": null,
            "visibility": null,
            "width": null
          }
        },
        "b4b964e4fd6e49418b2b8d9e4e0954b2": {
          "model_module": "@jupyter-widgets/controls",
          "model_name": "DescriptionStyleModel",
          "model_module_version": "1.5.0",
          "state": {
            "_model_module": "@jupyter-widgets/controls",
            "_model_module_version": "1.5.0",
            "_model_name": "DescriptionStyleModel",
            "_view_count": null,
            "_view_module": "@jupyter-widgets/base",
            "_view_module_version": "1.2.0",
            "_view_name": "StyleView",
            "description_width": ""
          }
        },
        "c93e395b51f54895a2c697f276e2ddc9": {
          "model_module": "@jupyter-widgets/base",
          "model_name": "LayoutModel",
          "model_module_version": "1.2.0",
          "state": {
            "_model_module": "@jupyter-widgets/base",
            "_model_module_version": "1.2.0",
            "_model_name": "LayoutModel",
            "_view_count": null,
            "_view_module": "@jupyter-widgets/base",
            "_view_module_version": "1.2.0",
            "_view_name": "LayoutView",
            "align_content": null,
            "align_items": null,
            "align_self": null,
            "border": null,
            "bottom": null,
            "display": null,
            "flex": null,
            "flex_flow": null,
            "grid_area": null,
            "grid_auto_columns": null,
            "grid_auto_flow": null,
            "grid_auto_rows": null,
            "grid_column": null,
            "grid_gap": null,
            "grid_row": null,
            "grid_template_areas": null,
            "grid_template_columns": null,
            "grid_template_rows": null,
            "height": null,
            "justify_content": null,
            "justify_items": null,
            "left": null,
            "margin": null,
            "max_height": null,
            "max_width": null,
            "min_height": null,
            "min_width": null,
            "object_fit": null,
            "object_position": null,
            "order": null,
            "overflow": null,
            "overflow_x": null,
            "overflow_y": null,
            "padding": null,
            "right": null,
            "top": null,
            "visibility": null,
            "width": null
          }
        },
        "e363b5fc2523474c988d13e5ac26f190": {
          "model_module": "@jupyter-widgets/controls",
          "model_name": "ProgressStyleModel",
          "model_module_version": "1.5.0",
          "state": {
            "_model_module": "@jupyter-widgets/controls",
            "_model_module_version": "1.5.0",
            "_model_name": "ProgressStyleModel",
            "_view_count": null,
            "_view_module": "@jupyter-widgets/base",
            "_view_module_version": "1.2.0",
            "_view_name": "StyleView",
            "bar_color": null,
            "description_width": ""
          }
        },
        "6681eb42b2cf4c51a68d558879d0d398": {
          "model_module": "@jupyter-widgets/base",
          "model_name": "LayoutModel",
          "model_module_version": "1.2.0",
          "state": {
            "_model_module": "@jupyter-widgets/base",
            "_model_module_version": "1.2.0",
            "_model_name": "LayoutModel",
            "_view_count": null,
            "_view_module": "@jupyter-widgets/base",
            "_view_module_version": "1.2.0",
            "_view_name": "LayoutView",
            "align_content": null,
            "align_items": null,
            "align_self": null,
            "border": null,
            "bottom": null,
            "display": null,
            "flex": null,
            "flex_flow": null,
            "grid_area": null,
            "grid_auto_columns": null,
            "grid_auto_flow": null,
            "grid_auto_rows": null,
            "grid_column": null,
            "grid_gap": null,
            "grid_row": null,
            "grid_template_areas": null,
            "grid_template_columns": null,
            "grid_template_rows": null,
            "height": null,
            "justify_content": null,
            "justify_items": null,
            "left": null,
            "margin": null,
            "max_height": null,
            "max_width": null,
            "min_height": null,
            "min_width": null,
            "object_fit": null,
            "object_position": null,
            "order": null,
            "overflow": null,
            "overflow_x": null,
            "overflow_y": null,
            "padding": null,
            "right": null,
            "top": null,
            "visibility": null,
            "width": null
          }
        },
        "fb61c148017d49cb944127031870f4cf": {
          "model_module": "@jupyter-widgets/controls",
          "model_name": "DescriptionStyleModel",
          "model_module_version": "1.5.0",
          "state": {
            "_model_module": "@jupyter-widgets/controls",
            "_model_module_version": "1.5.0",
            "_model_name": "DescriptionStyleModel",
            "_view_count": null,
            "_view_module": "@jupyter-widgets/base",
            "_view_module_version": "1.2.0",
            "_view_name": "StyleView",
            "description_width": ""
          }
        },
        "d962da012cb84a41bb775f56df41e43e": {
          "model_module": "@jupyter-widgets/controls",
          "model_name": "HBoxModel",
          "model_module_version": "1.5.0",
          "state": {
            "_dom_classes": [],
            "_model_module": "@jupyter-widgets/controls",
            "_model_module_version": "1.5.0",
            "_model_name": "HBoxModel",
            "_view_count": null,
            "_view_module": "@jupyter-widgets/controls",
            "_view_module_version": "1.5.0",
            "_view_name": "HBoxView",
            "box_style": "",
            "children": [
              "IPY_MODEL_48be1519c6504bf4ba4e12957c313512",
              "IPY_MODEL_3acc0b711e4c428d8b9848c8051bc00d",
              "IPY_MODEL_ad2b97bb427e4363a59bfe9fa92a6ba4"
            ],
            "layout": "IPY_MODEL_8c970dbc72a0418ba8d374a0a2daee59"
          }
        },
        "48be1519c6504bf4ba4e12957c313512": {
          "model_module": "@jupyter-widgets/controls",
          "model_name": "HTMLModel",
          "model_module_version": "1.5.0",
          "state": {
            "_dom_classes": [],
            "_model_module": "@jupyter-widgets/controls",
            "_model_module_version": "1.5.0",
            "_model_name": "HTMLModel",
            "_view_count": null,
            "_view_module": "@jupyter-widgets/controls",
            "_view_module_version": "1.5.0",
            "_view_name": "HTMLView",
            "description": "",
            "description_tooltip": null,
            "layout": "IPY_MODEL_2bed9339791f47aaa083b2634851cde8",
            "placeholder": "​",
            "style": "IPY_MODEL_8f97d53c41f242a3a0c0938701ac4116",
            "value": "Downloading data: 100%"
          }
        },
        "3acc0b711e4c428d8b9848c8051bc00d": {
          "model_module": "@jupyter-widgets/controls",
          "model_name": "FloatProgressModel",
          "model_module_version": "1.5.0",
          "state": {
            "_dom_classes": [],
            "_model_module": "@jupyter-widgets/controls",
            "_model_module_version": "1.5.0",
            "_model_name": "FloatProgressModel",
            "_view_count": null,
            "_view_module": "@jupyter-widgets/controls",
            "_view_module_version": "1.5.0",
            "_view_name": "ProgressView",
            "bar_style": "success",
            "description": "",
            "description_tooltip": null,
            "layout": "IPY_MODEL_f62e0cd8ad4a4030a079bdd74c026cfd",
            "max": 9989127,
            "min": 0,
            "orientation": "horizontal",
            "style": "IPY_MODEL_435e8bf6f48c45f587c68941ccd36b46",
            "value": 9989127
          }
        },
        "ad2b97bb427e4363a59bfe9fa92a6ba4": {
          "model_module": "@jupyter-widgets/controls",
          "model_name": "HTMLModel",
          "model_module_version": "1.5.0",
          "state": {
            "_dom_classes": [],
            "_model_module": "@jupyter-widgets/controls",
            "_model_module_version": "1.5.0",
            "_model_name": "HTMLModel",
            "_view_count": null,
            "_view_module": "@jupyter-widgets/controls",
            "_view_module_version": "1.5.0",
            "_view_name": "HTMLView",
            "description": "",
            "description_tooltip": null,
            "layout": "IPY_MODEL_68b45e60450d400394e97f9f0f57282f",
            "placeholder": "​",
            "style": "IPY_MODEL_cf6c545e31ab49b4ae6ab4f12a0065e2",
            "value": " 9.99M/9.99M [00:00&lt;00:00, 24.8MB/s]"
          }
        },
        "8c970dbc72a0418ba8d374a0a2daee59": {
          "model_module": "@jupyter-widgets/base",
          "model_name": "LayoutModel",
          "model_module_version": "1.2.0",
          "state": {
            "_model_module": "@jupyter-widgets/base",
            "_model_module_version": "1.2.0",
            "_model_name": "LayoutModel",
            "_view_count": null,
            "_view_module": "@jupyter-widgets/base",
            "_view_module_version": "1.2.0",
            "_view_name": "LayoutView",
            "align_content": null,
            "align_items": null,
            "align_self": null,
            "border": null,
            "bottom": null,
            "display": null,
            "flex": null,
            "flex_flow": null,
            "grid_area": null,
            "grid_auto_columns": null,
            "grid_auto_flow": null,
            "grid_auto_rows": null,
            "grid_column": null,
            "grid_gap": null,
            "grid_row": null,
            "grid_template_areas": null,
            "grid_template_columns": null,
            "grid_template_rows": null,
            "height": null,
            "justify_content": null,
            "justify_items": null,
            "left": null,
            "margin": null,
            "max_height": null,
            "max_width": null,
            "min_height": null,
            "min_width": null,
            "object_fit": null,
            "object_position": null,
            "order": null,
            "overflow": null,
            "overflow_x": null,
            "overflow_y": null,
            "padding": null,
            "right": null,
            "top": null,
            "visibility": null,
            "width": null
          }
        },
        "2bed9339791f47aaa083b2634851cde8": {
          "model_module": "@jupyter-widgets/base",
          "model_name": "LayoutModel",
          "model_module_version": "1.2.0",
          "state": {
            "_model_module": "@jupyter-widgets/base",
            "_model_module_version": "1.2.0",
            "_model_name": "LayoutModel",
            "_view_count": null,
            "_view_module": "@jupyter-widgets/base",
            "_view_module_version": "1.2.0",
            "_view_name": "LayoutView",
            "align_content": null,
            "align_items": null,
            "align_self": null,
            "border": null,
            "bottom": null,
            "display": null,
            "flex": null,
            "flex_flow": null,
            "grid_area": null,
            "grid_auto_columns": null,
            "grid_auto_flow": null,
            "grid_auto_rows": null,
            "grid_column": null,
            "grid_gap": null,
            "grid_row": null,
            "grid_template_areas": null,
            "grid_template_columns": null,
            "grid_template_rows": null,
            "height": null,
            "justify_content": null,
            "justify_items": null,
            "left": null,
            "margin": null,
            "max_height": null,
            "max_width": null,
            "min_height": null,
            "min_width": null,
            "object_fit": null,
            "object_position": null,
            "order": null,
            "overflow": null,
            "overflow_x": null,
            "overflow_y": null,
            "padding": null,
            "right": null,
            "top": null,
            "visibility": null,
            "width": null
          }
        },
        "8f97d53c41f242a3a0c0938701ac4116": {
          "model_module": "@jupyter-widgets/controls",
          "model_name": "DescriptionStyleModel",
          "model_module_version": "1.5.0",
          "state": {
            "_model_module": "@jupyter-widgets/controls",
            "_model_module_version": "1.5.0",
            "_model_name": "DescriptionStyleModel",
            "_view_count": null,
            "_view_module": "@jupyter-widgets/base",
            "_view_module_version": "1.2.0",
            "_view_name": "StyleView",
            "description_width": ""
          }
        },
        "f62e0cd8ad4a4030a079bdd74c026cfd": {
          "model_module": "@jupyter-widgets/base",
          "model_name": "LayoutModel",
          "model_module_version": "1.2.0",
          "state": {
            "_model_module": "@jupyter-widgets/base",
            "_model_module_version": "1.2.0",
            "_model_name": "LayoutModel",
            "_view_count": null,
            "_view_module": "@jupyter-widgets/base",
            "_view_module_version": "1.2.0",
            "_view_name": "LayoutView",
            "align_content": null,
            "align_items": null,
            "align_self": null,
            "border": null,
            "bottom": null,
            "display": null,
            "flex": null,
            "flex_flow": null,
            "grid_area": null,
            "grid_auto_columns": null,
            "grid_auto_flow": null,
            "grid_auto_rows": null,
            "grid_column": null,
            "grid_gap": null,
            "grid_row": null,
            "grid_template_areas": null,
            "grid_template_columns": null,
            "grid_template_rows": null,
            "height": null,
            "justify_content": null,
            "justify_items": null,
            "left": null,
            "margin": null,
            "max_height": null,
            "max_width": null,
            "min_height": null,
            "min_width": null,
            "object_fit": null,
            "object_position": null,
            "order": null,
            "overflow": null,
            "overflow_x": null,
            "overflow_y": null,
            "padding": null,
            "right": null,
            "top": null,
            "visibility": null,
            "width": null
          }
        },
        "435e8bf6f48c45f587c68941ccd36b46": {
          "model_module": "@jupyter-widgets/controls",
          "model_name": "ProgressStyleModel",
          "model_module_version": "1.5.0",
          "state": {
            "_model_module": "@jupyter-widgets/controls",
            "_model_module_version": "1.5.0",
            "_model_name": "ProgressStyleModel",
            "_view_count": null,
            "_view_module": "@jupyter-widgets/base",
            "_view_module_version": "1.2.0",
            "_view_name": "StyleView",
            "bar_color": null,
            "description_width": ""
          }
        },
        "68b45e60450d400394e97f9f0f57282f": {
          "model_module": "@jupyter-widgets/base",
          "model_name": "LayoutModel",
          "model_module_version": "1.2.0",
          "state": {
            "_model_module": "@jupyter-widgets/base",
            "_model_module_version": "1.2.0",
            "_model_name": "LayoutModel",
            "_view_count": null,
            "_view_module": "@jupyter-widgets/base",
            "_view_module_version": "1.2.0",
            "_view_name": "LayoutView",
            "align_content": null,
            "align_items": null,
            "align_self": null,
            "border": null,
            "bottom": null,
            "display": null,
            "flex": null,
            "flex_flow": null,
            "grid_area": null,
            "grid_auto_columns": null,
            "grid_auto_flow": null,
            "grid_auto_rows": null,
            "grid_column": null,
            "grid_gap": null,
            "grid_row": null,
            "grid_template_areas": null,
            "grid_template_columns": null,
            "grid_template_rows": null,
            "height": null,
            "justify_content": null,
            "justify_items": null,
            "left": null,
            "margin": null,
            "max_height": null,
            "max_width": null,
            "min_height": null,
            "min_width": null,
            "object_fit": null,
            "object_position": null,
            "order": null,
            "overflow": null,
            "overflow_x": null,
            "overflow_y": null,
            "padding": null,
            "right": null,
            "top": null,
            "visibility": null,
            "width": null
          }
        },
        "cf6c545e31ab49b4ae6ab4f12a0065e2": {
          "model_module": "@jupyter-widgets/controls",
          "model_name": "DescriptionStyleModel",
          "model_module_version": "1.5.0",
          "state": {
            "_model_module": "@jupyter-widgets/controls",
            "_model_module_version": "1.5.0",
            "_model_name": "DescriptionStyleModel",
            "_view_count": null,
            "_view_module": "@jupyter-widgets/base",
            "_view_module_version": "1.2.0",
            "_view_name": "StyleView",
            "description_width": ""
          }
        },
        "b00fc7273f2c43aa94046b671a43881b": {
          "model_module": "@jupyter-widgets/controls",
          "model_name": "HBoxModel",
          "model_module_version": "1.5.0",
          "state": {
            "_dom_classes": [],
            "_model_module": "@jupyter-widgets/controls",
            "_model_module_version": "1.5.0",
            "_model_name": "HBoxModel",
            "_view_count": null,
            "_view_module": "@jupyter-widgets/controls",
            "_view_module_version": "1.5.0",
            "_view_name": "HBoxView",
            "box_style": "",
            "children": [
              "IPY_MODEL_83238cb61f164f198a1492198bcb9502",
              "IPY_MODEL_b8930f3c4c434608a8984bb6ecc1834d",
              "IPY_MODEL_ee88c826db4c4f9793a0670ff05c4195"
            ],
            "layout": "IPY_MODEL_17e40528fe404641ab21e5daabf732ec"
          }
        },
        "83238cb61f164f198a1492198bcb9502": {
          "model_module": "@jupyter-widgets/controls",
          "model_name": "HTMLModel",
          "model_module_version": "1.5.0",
          "state": {
            "_dom_classes": [],
            "_model_module": "@jupyter-widgets/controls",
            "_model_module_version": "1.5.0",
            "_model_name": "HTMLModel",
            "_view_count": null,
            "_view_module": "@jupyter-widgets/controls",
            "_view_module_version": "1.5.0",
            "_view_name": "HTMLView",
            "description": "",
            "description_tooltip": null,
            "layout": "IPY_MODEL_d8ee676779454253ac05df5ffe55c0b5",
            "placeholder": "​",
            "style": "IPY_MODEL_ceb02047a60e4095996677c56282d110",
            "value": "Generating train split: "
          }
        },
        "b8930f3c4c434608a8984bb6ecc1834d": {
          "model_module": "@jupyter-widgets/controls",
          "model_name": "FloatProgressModel",
          "model_module_version": "1.5.0",
          "state": {
            "_dom_classes": [],
            "_model_module": "@jupyter-widgets/controls",
            "_model_module_version": "1.5.0",
            "_model_name": "FloatProgressModel",
            "_view_count": null,
            "_view_module": "@jupyter-widgets/controls",
            "_view_module_version": "1.5.0",
            "_view_name": "ProgressView",
            "bar_style": "success",
            "description": "",
            "description_tooltip": null,
            "layout": "IPY_MODEL_fbd12b8b7d4e433ea12a7f5bb174513e",
            "max": 1,
            "min": 0,
            "orientation": "horizontal",
            "style": "IPY_MODEL_6606ed0b5f5a4f7283b37163e3eead7d",
            "value": 1
          }
        },
        "ee88c826db4c4f9793a0670ff05c4195": {
          "model_module": "@jupyter-widgets/controls",
          "model_name": "HTMLModel",
          "model_module_version": "1.5.0",
          "state": {
            "_dom_classes": [],
            "_model_module": "@jupyter-widgets/controls",
            "_model_module_version": "1.5.0",
            "_model_name": "HTMLModel",
            "_view_count": null,
            "_view_module": "@jupyter-widgets/controls",
            "_view_module_version": "1.5.0",
            "_view_name": "HTMLView",
            "description": "",
            "description_tooltip": null,
            "layout": "IPY_MODEL_136c3853764e42aab6926906dce9ee7a",
            "placeholder": "​",
            "style": "IPY_MODEL_c97b8eba07d44765b7e117cf65e4ae23",
            "value": " 2119719/0 [00:22&lt;00:00, 163909.62 examples/s]"
          }
        },
        "17e40528fe404641ab21e5daabf732ec": {
          "model_module": "@jupyter-widgets/base",
          "model_name": "LayoutModel",
          "model_module_version": "1.2.0",
          "state": {
            "_model_module": "@jupyter-widgets/base",
            "_model_module_version": "1.2.0",
            "_model_name": "LayoutModel",
            "_view_count": null,
            "_view_module": "@jupyter-widgets/base",
            "_view_module_version": "1.2.0",
            "_view_name": "LayoutView",
            "align_content": null,
            "align_items": null,
            "align_self": null,
            "border": null,
            "bottom": null,
            "display": null,
            "flex": null,
            "flex_flow": null,
            "grid_area": null,
            "grid_auto_columns": null,
            "grid_auto_flow": null,
            "grid_auto_rows": null,
            "grid_column": null,
            "grid_gap": null,
            "grid_row": null,
            "grid_template_areas": null,
            "grid_template_columns": null,
            "grid_template_rows": null,
            "height": null,
            "justify_content": null,
            "justify_items": null,
            "left": null,
            "margin": null,
            "max_height": null,
            "max_width": null,
            "min_height": null,
            "min_width": null,
            "object_fit": null,
            "object_position": null,
            "order": null,
            "overflow": null,
            "overflow_x": null,
            "overflow_y": null,
            "padding": null,
            "right": null,
            "top": null,
            "visibility": null,
            "width": null
          }
        },
        "d8ee676779454253ac05df5ffe55c0b5": {
          "model_module": "@jupyter-widgets/base",
          "model_name": "LayoutModel",
          "model_module_version": "1.2.0",
          "state": {
            "_model_module": "@jupyter-widgets/base",
            "_model_module_version": "1.2.0",
            "_model_name": "LayoutModel",
            "_view_count": null,
            "_view_module": "@jupyter-widgets/base",
            "_view_module_version": "1.2.0",
            "_view_name": "LayoutView",
            "align_content": null,
            "align_items": null,
            "align_self": null,
            "border": null,
            "bottom": null,
            "display": null,
            "flex": null,
            "flex_flow": null,
            "grid_area": null,
            "grid_auto_columns": null,
            "grid_auto_flow": null,
            "grid_auto_rows": null,
            "grid_column": null,
            "grid_gap": null,
            "grid_row": null,
            "grid_template_areas": null,
            "grid_template_columns": null,
            "grid_template_rows": null,
            "height": null,
            "justify_content": null,
            "justify_items": null,
            "left": null,
            "margin": null,
            "max_height": null,
            "max_width": null,
            "min_height": null,
            "min_width": null,
            "object_fit": null,
            "object_position": null,
            "order": null,
            "overflow": null,
            "overflow_x": null,
            "overflow_y": null,
            "padding": null,
            "right": null,
            "top": null,
            "visibility": null,
            "width": null
          }
        },
        "ceb02047a60e4095996677c56282d110": {
          "model_module": "@jupyter-widgets/controls",
          "model_name": "DescriptionStyleModel",
          "model_module_version": "1.5.0",
          "state": {
            "_model_module": "@jupyter-widgets/controls",
            "_model_module_version": "1.5.0",
            "_model_name": "DescriptionStyleModel",
            "_view_count": null,
            "_view_module": "@jupyter-widgets/base",
            "_view_module_version": "1.2.0",
            "_view_name": "StyleView",
            "description_width": ""
          }
        },
        "fbd12b8b7d4e433ea12a7f5bb174513e": {
          "model_module": "@jupyter-widgets/base",
          "model_name": "LayoutModel",
          "model_module_version": "1.2.0",
          "state": {
            "_model_module": "@jupyter-widgets/base",
            "_model_module_version": "1.2.0",
            "_model_name": "LayoutModel",
            "_view_count": null,
            "_view_module": "@jupyter-widgets/base",
            "_view_module_version": "1.2.0",
            "_view_name": "LayoutView",
            "align_content": null,
            "align_items": null,
            "align_self": null,
            "border": null,
            "bottom": null,
            "display": null,
            "flex": null,
            "flex_flow": null,
            "grid_area": null,
            "grid_auto_columns": null,
            "grid_auto_flow": null,
            "grid_auto_rows": null,
            "grid_column": null,
            "grid_gap": null,
            "grid_row": null,
            "grid_template_areas": null,
            "grid_template_columns": null,
            "grid_template_rows": null,
            "height": null,
            "justify_content": null,
            "justify_items": null,
            "left": null,
            "margin": null,
            "max_height": null,
            "max_width": null,
            "min_height": null,
            "min_width": null,
            "object_fit": null,
            "object_position": null,
            "order": null,
            "overflow": null,
            "overflow_x": null,
            "overflow_y": null,
            "padding": null,
            "right": null,
            "top": null,
            "visibility": null,
            "width": "20px"
          }
        },
        "6606ed0b5f5a4f7283b37163e3eead7d": {
          "model_module": "@jupyter-widgets/controls",
          "model_name": "ProgressStyleModel",
          "model_module_version": "1.5.0",
          "state": {
            "_model_module": "@jupyter-widgets/controls",
            "_model_module_version": "1.5.0",
            "_model_name": "ProgressStyleModel",
            "_view_count": null,
            "_view_module": "@jupyter-widgets/base",
            "_view_module_version": "1.2.0",
            "_view_name": "StyleView",
            "bar_color": null,
            "description_width": ""
          }
        },
        "136c3853764e42aab6926906dce9ee7a": {
          "model_module": "@jupyter-widgets/base",
          "model_name": "LayoutModel",
          "model_module_version": "1.2.0",
          "state": {
            "_model_module": "@jupyter-widgets/base",
            "_model_module_version": "1.2.0",
            "_model_name": "LayoutModel",
            "_view_count": null,
            "_view_module": "@jupyter-widgets/base",
            "_view_module_version": "1.2.0",
            "_view_name": "LayoutView",
            "align_content": null,
            "align_items": null,
            "align_self": null,
            "border": null,
            "bottom": null,
            "display": null,
            "flex": null,
            "flex_flow": null,
            "grid_area": null,
            "grid_auto_columns": null,
            "grid_auto_flow": null,
            "grid_auto_rows": null,
            "grid_column": null,
            "grid_gap": null,
            "grid_row": null,
            "grid_template_areas": null,
            "grid_template_columns": null,
            "grid_template_rows": null,
            "height": null,
            "justify_content": null,
            "justify_items": null,
            "left": null,
            "margin": null,
            "max_height": null,
            "max_width": null,
            "min_height": null,
            "min_width": null,
            "object_fit": null,
            "object_position": null,
            "order": null,
            "overflow": null,
            "overflow_x": null,
            "overflow_y": null,
            "padding": null,
            "right": null,
            "top": null,
            "visibility": null,
            "width": null
          }
        },
        "c97b8eba07d44765b7e117cf65e4ae23": {
          "model_module": "@jupyter-widgets/controls",
          "model_name": "DescriptionStyleModel",
          "model_module_version": "1.5.0",
          "state": {
            "_model_module": "@jupyter-widgets/controls",
            "_model_module_version": "1.5.0",
            "_model_name": "DescriptionStyleModel",
            "_view_count": null,
            "_view_module": "@jupyter-widgets/base",
            "_view_module_version": "1.2.0",
            "_view_name": "StyleView",
            "description_width": ""
          }
        },
        "37387b69296c4504bc817d67ddddc575": {
          "model_module": "@jupyter-widgets/controls",
          "model_name": "HBoxModel",
          "model_module_version": "1.5.0",
          "state": {
            "_dom_classes": [],
            "_model_module": "@jupyter-widgets/controls",
            "_model_module_version": "1.5.0",
            "_model_name": "HBoxModel",
            "_view_count": null,
            "_view_module": "@jupyter-widgets/controls",
            "_view_module_version": "1.5.0",
            "_view_name": "HBoxView",
            "box_style": "",
            "children": [
              "IPY_MODEL_e4a96a6ba632407a83ea3eeaaac32398",
              "IPY_MODEL_2dd1b862d4f041119f73f84131320773",
              "IPY_MODEL_8d3a7fbf1d294edf935ef5845b2e262b"
            ],
            "layout": "IPY_MODEL_6944978b16d749b8a82ec1b442e6fa72"
          }
        },
        "e4a96a6ba632407a83ea3eeaaac32398": {
          "model_module": "@jupyter-widgets/controls",
          "model_name": "HTMLModel",
          "model_module_version": "1.5.0",
          "state": {
            "_dom_classes": [],
            "_model_module": "@jupyter-widgets/controls",
            "_model_module_version": "1.5.0",
            "_model_name": "HTMLModel",
            "_view_count": null,
            "_view_module": "@jupyter-widgets/controls",
            "_view_module_version": "1.5.0",
            "_view_name": "HTMLView",
            "description": "",
            "description_tooltip": null,
            "layout": "IPY_MODEL_ad2504925f89416f9ecbd2e9fc1374c4",
            "placeholder": "​",
            "style": "IPY_MODEL_ef91d068174247bdbeb4f6780aab32c3",
            "value": "Generating validation split: "
          }
        },
        "2dd1b862d4f041119f73f84131320773": {
          "model_module": "@jupyter-widgets/controls",
          "model_name": "FloatProgressModel",
          "model_module_version": "1.5.0",
          "state": {
            "_dom_classes": [],
            "_model_module": "@jupyter-widgets/controls",
            "_model_module_version": "1.5.0",
            "_model_name": "FloatProgressModel",
            "_view_count": null,
            "_view_module": "@jupyter-widgets/controls",
            "_view_module_version": "1.5.0",
            "_view_name": "ProgressView",
            "bar_style": "success",
            "description": "",
            "description_tooltip": null,
            "layout": "IPY_MODEL_8fa016d1233e48159715a80d08bdfd23",
            "max": 1,
            "min": 0,
            "orientation": "horizontal",
            "style": "IPY_MODEL_0a4cf702168844f7ab4e2df435c20e03",
            "value": 1
          }
        },
        "8d3a7fbf1d294edf935ef5845b2e262b": {
          "model_module": "@jupyter-widgets/controls",
          "model_name": "HTMLModel",
          "model_module_version": "1.5.0",
          "state": {
            "_dom_classes": [],
            "_model_module": "@jupyter-widgets/controls",
            "_model_module_version": "1.5.0",
            "_model_name": "HTMLModel",
            "_view_count": null,
            "_view_module": "@jupyter-widgets/controls",
            "_view_module_version": "1.5.0",
            "_view_name": "HTMLView",
            "description": "",
            "description_tooltip": null,
            "layout": "IPY_MODEL_10384763d6684d0fa26b0075b28db92c",
            "placeholder": "​",
            "style": "IPY_MODEL_e725706554ed435e849ee4a2cd071da2",
            "value": " 21990/0 [00:00&lt;00:00, 143042.65 examples/s]"
          }
        },
        "6944978b16d749b8a82ec1b442e6fa72": {
          "model_module": "@jupyter-widgets/base",
          "model_name": "LayoutModel",
          "model_module_version": "1.2.0",
          "state": {
            "_model_module": "@jupyter-widgets/base",
            "_model_module_version": "1.2.0",
            "_model_name": "LayoutModel",
            "_view_count": null,
            "_view_module": "@jupyter-widgets/base",
            "_view_module_version": "1.2.0",
            "_view_name": "LayoutView",
            "align_content": null,
            "align_items": null,
            "align_self": null,
            "border": null,
            "bottom": null,
            "display": null,
            "flex": null,
            "flex_flow": null,
            "grid_area": null,
            "grid_auto_columns": null,
            "grid_auto_flow": null,
            "grid_auto_rows": null,
            "grid_column": null,
            "grid_gap": null,
            "grid_row": null,
            "grid_template_areas": null,
            "grid_template_columns": null,
            "grid_template_rows": null,
            "height": null,
            "justify_content": null,
            "justify_items": null,
            "left": null,
            "margin": null,
            "max_height": null,
            "max_width": null,
            "min_height": null,
            "min_width": null,
            "object_fit": null,
            "object_position": null,
            "order": null,
            "overflow": null,
            "overflow_x": null,
            "overflow_y": null,
            "padding": null,
            "right": null,
            "top": null,
            "visibility": null,
            "width": null
          }
        },
        "ad2504925f89416f9ecbd2e9fc1374c4": {
          "model_module": "@jupyter-widgets/base",
          "model_name": "LayoutModel",
          "model_module_version": "1.2.0",
          "state": {
            "_model_module": "@jupyter-widgets/base",
            "_model_module_version": "1.2.0",
            "_model_name": "LayoutModel",
            "_view_count": null,
            "_view_module": "@jupyter-widgets/base",
            "_view_module_version": "1.2.0",
            "_view_name": "LayoutView",
            "align_content": null,
            "align_items": null,
            "align_self": null,
            "border": null,
            "bottom": null,
            "display": null,
            "flex": null,
            "flex_flow": null,
            "grid_area": null,
            "grid_auto_columns": null,
            "grid_auto_flow": null,
            "grid_auto_rows": null,
            "grid_column": null,
            "grid_gap": null,
            "grid_row": null,
            "grid_template_areas": null,
            "grid_template_columns": null,
            "grid_template_rows": null,
            "height": null,
            "justify_content": null,
            "justify_items": null,
            "left": null,
            "margin": null,
            "max_height": null,
            "max_width": null,
            "min_height": null,
            "min_width": null,
            "object_fit": null,
            "object_position": null,
            "order": null,
            "overflow": null,
            "overflow_x": null,
            "overflow_y": null,
            "padding": null,
            "right": null,
            "top": null,
            "visibility": null,
            "width": null
          }
        },
        "ef91d068174247bdbeb4f6780aab32c3": {
          "model_module": "@jupyter-widgets/controls",
          "model_name": "DescriptionStyleModel",
          "model_module_version": "1.5.0",
          "state": {
            "_model_module": "@jupyter-widgets/controls",
            "_model_module_version": "1.5.0",
            "_model_name": "DescriptionStyleModel",
            "_view_count": null,
            "_view_module": "@jupyter-widgets/base",
            "_view_module_version": "1.2.0",
            "_view_name": "StyleView",
            "description_width": ""
          }
        },
        "8fa016d1233e48159715a80d08bdfd23": {
          "model_module": "@jupyter-widgets/base",
          "model_name": "LayoutModel",
          "model_module_version": "1.2.0",
          "state": {
            "_model_module": "@jupyter-widgets/base",
            "_model_module_version": "1.2.0",
            "_model_name": "LayoutModel",
            "_view_count": null,
            "_view_module": "@jupyter-widgets/base",
            "_view_module_version": "1.2.0",
            "_view_name": "LayoutView",
            "align_content": null,
            "align_items": null,
            "align_self": null,
            "border": null,
            "bottom": null,
            "display": null,
            "flex": null,
            "flex_flow": null,
            "grid_area": null,
            "grid_auto_columns": null,
            "grid_auto_flow": null,
            "grid_auto_rows": null,
            "grid_column": null,
            "grid_gap": null,
            "grid_row": null,
            "grid_template_areas": null,
            "grid_template_columns": null,
            "grid_template_rows": null,
            "height": null,
            "justify_content": null,
            "justify_items": null,
            "left": null,
            "margin": null,
            "max_height": null,
            "max_width": null,
            "min_height": null,
            "min_width": null,
            "object_fit": null,
            "object_position": null,
            "order": null,
            "overflow": null,
            "overflow_x": null,
            "overflow_y": null,
            "padding": null,
            "right": null,
            "top": null,
            "visibility": null,
            "width": "20px"
          }
        },
        "0a4cf702168844f7ab4e2df435c20e03": {
          "model_module": "@jupyter-widgets/controls",
          "model_name": "ProgressStyleModel",
          "model_module_version": "1.5.0",
          "state": {
            "_model_module": "@jupyter-widgets/controls",
            "_model_module_version": "1.5.0",
            "_model_name": "ProgressStyleModel",
            "_view_count": null,
            "_view_module": "@jupyter-widgets/base",
            "_view_module_version": "1.2.0",
            "_view_name": "StyleView",
            "bar_color": null,
            "description_width": ""
          }
        },
        "10384763d6684d0fa26b0075b28db92c": {
          "model_module": "@jupyter-widgets/base",
          "model_name": "LayoutModel",
          "model_module_version": "1.2.0",
          "state": {
            "_model_module": "@jupyter-widgets/base",
            "_model_module_version": "1.2.0",
            "_model_name": "LayoutModel",
            "_view_count": null,
            "_view_module": "@jupyter-widgets/base",
            "_view_module_version": "1.2.0",
            "_view_name": "LayoutView",
            "align_content": null,
            "align_items": null,
            "align_self": null,
            "border": null,
            "bottom": null,
            "display": null,
            "flex": null,
            "flex_flow": null,
            "grid_area": null,
            "grid_auto_columns": null,
            "grid_auto_flow": null,
            "grid_auto_rows": null,
            "grid_column": null,
            "grid_gap": null,
            "grid_row": null,
            "grid_template_areas": null,
            "grid_template_columns": null,
            "grid_template_rows": null,
            "height": null,
            "justify_content": null,
            "justify_items": null,
            "left": null,
            "margin": null,
            "max_height": null,
            "max_width": null,
            "min_height": null,
            "min_width": null,
            "object_fit": null,
            "object_position": null,
            "order": null,
            "overflow": null,
            "overflow_x": null,
            "overflow_y": null,
            "padding": null,
            "right": null,
            "top": null,
            "visibility": null,
            "width": null
          }
        },
        "e725706554ed435e849ee4a2cd071da2": {
          "model_module": "@jupyter-widgets/controls",
          "model_name": "DescriptionStyleModel",
          "model_module_version": "1.5.0",
          "state": {
            "_model_module": "@jupyter-widgets/controls",
            "_model_module_version": "1.5.0",
            "_model_name": "DescriptionStyleModel",
            "_view_count": null,
            "_view_module": "@jupyter-widgets/base",
            "_view_module_version": "1.2.0",
            "_view_name": "StyleView",
            "description_width": ""
          }
        },
        "5894636b7deb4e0eb8a2a1190758bf72": {
          "model_module": "@jupyter-widgets/controls",
          "model_name": "HBoxModel",
          "model_module_version": "1.5.0",
          "state": {
            "_dom_classes": [],
            "_model_module": "@jupyter-widgets/controls",
            "_model_module_version": "1.5.0",
            "_model_name": "HBoxModel",
            "_view_count": null,
            "_view_module": "@jupyter-widgets/controls",
            "_view_module_version": "1.5.0",
            "_view_name": "HBoxView",
            "box_style": "",
            "children": [
              "IPY_MODEL_9536f7bd220d44bb8b8396b5400653a8",
              "IPY_MODEL_c2c2088e1b9748db913a301b34b22d93",
              "IPY_MODEL_25cb93ee4d93493b9b29c0de01328e9a"
            ],
            "layout": "IPY_MODEL_b492e748035446a88b1fe8f5bc9a31e3"
          }
        },
        "9536f7bd220d44bb8b8396b5400653a8": {
          "model_module": "@jupyter-widgets/controls",
          "model_name": "HTMLModel",
          "model_module_version": "1.5.0",
          "state": {
            "_dom_classes": [],
            "_model_module": "@jupyter-widgets/controls",
            "_model_module_version": "1.5.0",
            "_model_name": "HTMLModel",
            "_view_count": null,
            "_view_module": "@jupyter-widgets/controls",
            "_view_module_version": "1.5.0",
            "_view_name": "HTMLView",
            "description": "",
            "description_tooltip": null,
            "layout": "IPY_MODEL_226bf8ab7bcf4dfe86ba725fab640f8e",
            "placeholder": "​",
            "style": "IPY_MODEL_61000d1bcc384bbe8b6e1f80e6760acc",
            "value": "Map: 100%"
          }
        },
        "c2c2088e1b9748db913a301b34b22d93": {
          "model_module": "@jupyter-widgets/controls",
          "model_name": "FloatProgressModel",
          "model_module_version": "1.5.0",
          "state": {
            "_dom_classes": [],
            "_model_module": "@jupyter-widgets/controls",
            "_model_module_version": "1.5.0",
            "_model_name": "FloatProgressModel",
            "_view_count": null,
            "_view_module": "@jupyter-widgets/controls",
            "_view_module_version": "1.5.0",
            "_view_name": "ProgressView",
            "bar_style": "success",
            "description": "",
            "description_tooltip": null,
            "layout": "IPY_MODEL_e91e55edf33f4c9eba13c44bd8c43e0a",
            "max": 4000,
            "min": 0,
            "orientation": "horizontal",
            "style": "IPY_MODEL_70b8150555864f499f0d816869639881",
            "value": 4000
          }
        },
        "25cb93ee4d93493b9b29c0de01328e9a": {
          "model_module": "@jupyter-widgets/controls",
          "model_name": "HTMLModel",
          "model_module_version": "1.5.0",
          "state": {
            "_dom_classes": [],
            "_model_module": "@jupyter-widgets/controls",
            "_model_module_version": "1.5.0",
            "_model_name": "HTMLModel",
            "_view_count": null,
            "_view_module": "@jupyter-widgets/controls",
            "_view_module_version": "1.5.0",
            "_view_name": "HTMLView",
            "description": "",
            "description_tooltip": null,
            "layout": "IPY_MODEL_dfb15e6089724678b6fa1a36b3be51f1",
            "placeholder": "​",
            "style": "IPY_MODEL_b4af3157a17144b1b0ef53c35e77aab7",
            "value": " 4000/4000 [00:01&lt;00:00, 2465.77 examples/s]"
          }
        },
        "b492e748035446a88b1fe8f5bc9a31e3": {
          "model_module": "@jupyter-widgets/base",
          "model_name": "LayoutModel",
          "model_module_version": "1.2.0",
          "state": {
            "_model_module": "@jupyter-widgets/base",
            "_model_module_version": "1.2.0",
            "_model_name": "LayoutModel",
            "_view_count": null,
            "_view_module": "@jupyter-widgets/base",
            "_view_module_version": "1.2.0",
            "_view_name": "LayoutView",
            "align_content": null,
            "align_items": null,
            "align_self": null,
            "border": null,
            "bottom": null,
            "display": null,
            "flex": null,
            "flex_flow": null,
            "grid_area": null,
            "grid_auto_columns": null,
            "grid_auto_flow": null,
            "grid_auto_rows": null,
            "grid_column": null,
            "grid_gap": null,
            "grid_row": null,
            "grid_template_areas": null,
            "grid_template_columns": null,
            "grid_template_rows": null,
            "height": null,
            "justify_content": null,
            "justify_items": null,
            "left": null,
            "margin": null,
            "max_height": null,
            "max_width": null,
            "min_height": null,
            "min_width": null,
            "object_fit": null,
            "object_position": null,
            "order": null,
            "overflow": null,
            "overflow_x": null,
            "overflow_y": null,
            "padding": null,
            "right": null,
            "top": null,
            "visibility": null,
            "width": null
          }
        },
        "226bf8ab7bcf4dfe86ba725fab640f8e": {
          "model_module": "@jupyter-widgets/base",
          "model_name": "LayoutModel",
          "model_module_version": "1.2.0",
          "state": {
            "_model_module": "@jupyter-widgets/base",
            "_model_module_version": "1.2.0",
            "_model_name": "LayoutModel",
            "_view_count": null,
            "_view_module": "@jupyter-widgets/base",
            "_view_module_version": "1.2.0",
            "_view_name": "LayoutView",
            "align_content": null,
            "align_items": null,
            "align_self": null,
            "border": null,
            "bottom": null,
            "display": null,
            "flex": null,
            "flex_flow": null,
            "grid_area": null,
            "grid_auto_columns": null,
            "grid_auto_flow": null,
            "grid_auto_rows": null,
            "grid_column": null,
            "grid_gap": null,
            "grid_row": null,
            "grid_template_areas": null,
            "grid_template_columns": null,
            "grid_template_rows": null,
            "height": null,
            "justify_content": null,
            "justify_items": null,
            "left": null,
            "margin": null,
            "max_height": null,
            "max_width": null,
            "min_height": null,
            "min_width": null,
            "object_fit": null,
            "object_position": null,
            "order": null,
            "overflow": null,
            "overflow_x": null,
            "overflow_y": null,
            "padding": null,
            "right": null,
            "top": null,
            "visibility": null,
            "width": null
          }
        },
        "61000d1bcc384bbe8b6e1f80e6760acc": {
          "model_module": "@jupyter-widgets/controls",
          "model_name": "DescriptionStyleModel",
          "model_module_version": "1.5.0",
          "state": {
            "_model_module": "@jupyter-widgets/controls",
            "_model_module_version": "1.5.0",
            "_model_name": "DescriptionStyleModel",
            "_view_count": null,
            "_view_module": "@jupyter-widgets/base",
            "_view_module_version": "1.2.0",
            "_view_name": "StyleView",
            "description_width": ""
          }
        },
        "e91e55edf33f4c9eba13c44bd8c43e0a": {
          "model_module": "@jupyter-widgets/base",
          "model_name": "LayoutModel",
          "model_module_version": "1.2.0",
          "state": {
            "_model_module": "@jupyter-widgets/base",
            "_model_module_version": "1.2.0",
            "_model_name": "LayoutModel",
            "_view_count": null,
            "_view_module": "@jupyter-widgets/base",
            "_view_module_version": "1.2.0",
            "_view_name": "LayoutView",
            "align_content": null,
            "align_items": null,
            "align_self": null,
            "border": null,
            "bottom": null,
            "display": null,
            "flex": null,
            "flex_flow": null,
            "grid_area": null,
            "grid_auto_columns": null,
            "grid_auto_flow": null,
            "grid_auto_rows": null,
            "grid_column": null,
            "grid_gap": null,
            "grid_row": null,
            "grid_template_areas": null,
            "grid_template_columns": null,
            "grid_template_rows": null,
            "height": null,
            "justify_content": null,
            "justify_items": null,
            "left": null,
            "margin": null,
            "max_height": null,
            "max_width": null,
            "min_height": null,
            "min_width": null,
            "object_fit": null,
            "object_position": null,
            "order": null,
            "overflow": null,
            "overflow_x": null,
            "overflow_y": null,
            "padding": null,
            "right": null,
            "top": null,
            "visibility": null,
            "width": null
          }
        },
        "70b8150555864f499f0d816869639881": {
          "model_module": "@jupyter-widgets/controls",
          "model_name": "ProgressStyleModel",
          "model_module_version": "1.5.0",
          "state": {
            "_model_module": "@jupyter-widgets/controls",
            "_model_module_version": "1.5.0",
            "_model_name": "ProgressStyleModel",
            "_view_count": null,
            "_view_module": "@jupyter-widgets/base",
            "_view_module_version": "1.2.0",
            "_view_name": "StyleView",
            "bar_color": null,
            "description_width": ""
          }
        },
        "dfb15e6089724678b6fa1a36b3be51f1": {
          "model_module": "@jupyter-widgets/base",
          "model_name": "LayoutModel",
          "model_module_version": "1.2.0",
          "state": {
            "_model_module": "@jupyter-widgets/base",
            "_model_module_version": "1.2.0",
            "_model_name": "LayoutModel",
            "_view_count": null,
            "_view_module": "@jupyter-widgets/base",
            "_view_module_version": "1.2.0",
            "_view_name": "LayoutView",
            "align_content": null,
            "align_items": null,
            "align_self": null,
            "border": null,
            "bottom": null,
            "display": null,
            "flex": null,
            "flex_flow": null,
            "grid_area": null,
            "grid_auto_columns": null,
            "grid_auto_flow": null,
            "grid_auto_rows": null,
            "grid_column": null,
            "grid_gap": null,
            "grid_row": null,
            "grid_template_areas": null,
            "grid_template_columns": null,
            "grid_template_rows": null,
            "height": null,
            "justify_content": null,
            "justify_items": null,
            "left": null,
            "margin": null,
            "max_height": null,
            "max_width": null,
            "min_height": null,
            "min_width": null,
            "object_fit": null,
            "object_position": null,
            "order": null,
            "overflow": null,
            "overflow_x": null,
            "overflow_y": null,
            "padding": null,
            "right": null,
            "top": null,
            "visibility": null,
            "width": null
          }
        },
        "b4af3157a17144b1b0ef53c35e77aab7": {
          "model_module": "@jupyter-widgets/controls",
          "model_name": "DescriptionStyleModel",
          "model_module_version": "1.5.0",
          "state": {
            "_model_module": "@jupyter-widgets/controls",
            "_model_module_version": "1.5.0",
            "_model_name": "DescriptionStyleModel",
            "_view_count": null,
            "_view_module": "@jupyter-widgets/base",
            "_view_module_version": "1.2.0",
            "_view_name": "StyleView",
            "description_width": ""
          }
        }
      }
    }
  },
  "nbformat": 4,
  "nbformat_minor": 0
}